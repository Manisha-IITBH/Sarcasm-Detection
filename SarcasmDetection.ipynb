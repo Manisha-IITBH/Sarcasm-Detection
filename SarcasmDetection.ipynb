{
  "cells": [
    {
      "cell_type": "markdown",
      "metadata": {
        "id": "Minl2PVLf_9R"
      },
      "source": [
        "*italicized text*## *libraries*"
      ]
    },
    {
      "cell_type": "code",
      "execution_count": 1,
      "metadata": {
        "id": "-l-NvE1wf_9W"
      },
      "outputs": [],
      "source": [
        "\n",
        "from keras.preprocessing.text import Tokenizer\n",
        "from keras_preprocessing.sequence import pad_sequences\n"
      ]
    },
    {
      "cell_type": "code",
      "execution_count": null,
      "metadata": {
        "id": "4OTGIEJgf_9Y",
        "outputId": "d81e87c6-7541-433e-afff-808f60f0d37d"
      },
      "outputs": [
        {
          "name": "stdout",
          "output_type": "stream",
          "text": [
            "Note: you may need to restart the kernel to use updated packages.\n"
          ]
        },
        {
          "name": "stderr",
          "output_type": "stream",
          "text": [
            "Traceback (most recent call last):\n",
            "  File \"C:\\Users\\shubh\\anaconda3\\lib\\runpy.py\", line 197, in _run_module_as_main\n",
            "    return _run_code(code, main_globals, None,\n",
            "  File \"C:\\Users\\shubh\\anaconda3\\lib\\runpy.py\", line 87, in _run_code\n",
            "    exec(code, run_globals)\n",
            "  File \"C:\\Users\\shubh\\anaconda3\\lib\\site-packages\\pip\\__main__.py\", line 29, in <module>\n",
            "    from pip._internal.cli.main import main as _main\n",
            "  File \"C:\\Users\\shubh\\anaconda3\\lib\\site-packages\\pip\\_internal\\cli\\main.py\", line 9, in <module>\n",
            "    from pip._internal.cli.autocompletion import autocomplete\n",
            "  File \"C:\\Users\\shubh\\anaconda3\\lib\\site-packages\\pip\\_internal\\cli\\autocompletion.py\", line 10, in <module>\n",
            "    from pip._internal.cli.main_parser import create_main_parser\n",
            "  File \"C:\\Users\\shubh\\anaconda3\\lib\\site-packages\\pip\\_internal\\cli\\main_parser.py\", line 9, in <module>\n",
            "    from pip._internal.build_env import get_runnable_pip\n",
            "  File \"C:\\Users\\shubh\\anaconda3\\lib\\site-packages\\pip\\_internal\\build_env.py\", line 16, in <module>\n",
            "    from pip._vendor.packaging.requirements import Requirement\n",
            "  File \"C:\\Users\\shubh\\anaconda3\\lib\\site-packages\\pip\\_vendor\\packaging\\requirements.py\", line 10, in <module>\n",
            "    from pip._vendor.pyparsing import (  # noqa\n",
            "ImportError: cannot import name 'Combine' from 'pip._vendor.pyparsing' (unknown location)\n"
          ]
        }
      ],
      "source": [
        "pip install tensorflow"
      ]
    },
    {
      "cell_type": "code",
      "execution_count": 2,
      "metadata": {
        "id": "XtwGhgq2f_9Z"
      },
      "outputs": [],
      "source": [
        "import numpy as np \n",
        "import pandas as pd \n",
        "import os\n",
        "import re\n",
        "import matplotlib.pyplot as plt\n",
        "import keras\n",
        "import tensorflow as tf"
      ]
    },
    {
      "cell_type": "code",
      "execution_count": 3,
      "metadata": {
        "id": "yhGgVEyhf_9b"
      },
      "outputs": [],
      "source": [
        "from keras.models import Sequential\n",
        "from keras.layers import Dense, Embedding, GRU, LSTM, Bidirectional\n",
        "from keras.layers import Embedding\n",
        "from keras.initializers import Constant\n",
        "from keras.callbacks import ModelCheckpoint\n",
        "from keras.models import load_model"
      ]
    },
    {
      "cell_type": "code",
      "execution_count": 4,
      "metadata": {
        "id": "0AwKV7VBf_9c"
      },
      "outputs": [],
      "source": [
        "from keras.utils.generic_utils import CustomObjectScope"
      ]
    },
    {
      "cell_type": "markdown",
      "metadata": {
        "id": "BL37EFdef_9c"
      },
      "source": [
        "\n",
        "\n",
        "## *Reading the dataset*"
      ]
    },
    {
      "cell_type": "code",
      "execution_count": 5,
      "metadata": {
        "colab": {
          "base_uri": "https://localhost:8080/",
          "height": 206
        },
        "id": "rr0FmBdtf_9d",
        "outputId": "20a343f9-6588-40ae-c4c8-5cced3db8891"
      },
      "outputs": [
        {
          "output_type": "execute_result",
          "data": {
            "text/plain": [
              "                                        article_link  \\\n",
              "0  https://www.huffingtonpost.com/entry/versace-b...   \n",
              "1  https://www.huffingtonpost.com/entry/roseanne-...   \n",
              "2  https://local.theonion.com/mom-starting-to-fea...   \n",
              "3  https://politics.theonion.com/boehner-just-wan...   \n",
              "4  https://www.huffingtonpost.com/entry/jk-rowlin...   \n",
              "\n",
              "                                            headline  is_sarcastic  \n",
              "0  former versace store clerk sues over secret 'b...             0  \n",
              "1  the 'roseanne' revival catches up to our thorn...             0  \n",
              "2  mom starting to fear son's web series closest ...             1  \n",
              "3  boehner just wants wife to listen, not come up...             1  \n",
              "4  j.k. rowling wishes snape happy birthday in th...             0  "
            ],
            "text/html": [
              "\n",
              "  <div id=\"df-2b1eb773-8bcd-4915-b157-3740b09b03e7\">\n",
              "    <div class=\"colab-df-container\">\n",
              "      <div>\n",
              "<style scoped>\n",
              "    .dataframe tbody tr th:only-of-type {\n",
              "        vertical-align: middle;\n",
              "    }\n",
              "\n",
              "    .dataframe tbody tr th {\n",
              "        vertical-align: top;\n",
              "    }\n",
              "\n",
              "    .dataframe thead th {\n",
              "        text-align: right;\n",
              "    }\n",
              "</style>\n",
              "<table border=\"1\" class=\"dataframe\">\n",
              "  <thead>\n",
              "    <tr style=\"text-align: right;\">\n",
              "      <th></th>\n",
              "      <th>article_link</th>\n",
              "      <th>headline</th>\n",
              "      <th>is_sarcastic</th>\n",
              "    </tr>\n",
              "  </thead>\n",
              "  <tbody>\n",
              "    <tr>\n",
              "      <th>0</th>\n",
              "      <td>https://www.huffingtonpost.com/entry/versace-b...</td>\n",
              "      <td>former versace store clerk sues over secret 'b...</td>\n",
              "      <td>0</td>\n",
              "    </tr>\n",
              "    <tr>\n",
              "      <th>1</th>\n",
              "      <td>https://www.huffingtonpost.com/entry/roseanne-...</td>\n",
              "      <td>the 'roseanne' revival catches up to our thorn...</td>\n",
              "      <td>0</td>\n",
              "    </tr>\n",
              "    <tr>\n",
              "      <th>2</th>\n",
              "      <td>https://local.theonion.com/mom-starting-to-fea...</td>\n",
              "      <td>mom starting to fear son's web series closest ...</td>\n",
              "      <td>1</td>\n",
              "    </tr>\n",
              "    <tr>\n",
              "      <th>3</th>\n",
              "      <td>https://politics.theonion.com/boehner-just-wan...</td>\n",
              "      <td>boehner just wants wife to listen, not come up...</td>\n",
              "      <td>1</td>\n",
              "    </tr>\n",
              "    <tr>\n",
              "      <th>4</th>\n",
              "      <td>https://www.huffingtonpost.com/entry/jk-rowlin...</td>\n",
              "      <td>j.k. rowling wishes snape happy birthday in th...</td>\n",
              "      <td>0</td>\n",
              "    </tr>\n",
              "  </tbody>\n",
              "</table>\n",
              "</div>\n",
              "      <button class=\"colab-df-convert\" onclick=\"convertToInteractive('df-2b1eb773-8bcd-4915-b157-3740b09b03e7')\"\n",
              "              title=\"Convert this dataframe to an interactive table.\"\n",
              "              style=\"display:none;\">\n",
              "        \n",
              "  <svg xmlns=\"http://www.w3.org/2000/svg\" height=\"24px\"viewBox=\"0 0 24 24\"\n",
              "       width=\"24px\">\n",
              "    <path d=\"M0 0h24v24H0V0z\" fill=\"none\"/>\n",
              "    <path d=\"M18.56 5.44l.94 2.06.94-2.06 2.06-.94-2.06-.94-.94-2.06-.94 2.06-2.06.94zm-11 1L8.5 8.5l.94-2.06 2.06-.94-2.06-.94L8.5 2.5l-.94 2.06-2.06.94zm10 10l.94 2.06.94-2.06 2.06-.94-2.06-.94-.94-2.06-.94 2.06-2.06.94z\"/><path d=\"M17.41 7.96l-1.37-1.37c-.4-.4-.92-.59-1.43-.59-.52 0-1.04.2-1.43.59L10.3 9.45l-7.72 7.72c-.78.78-.78 2.05 0 2.83L4 21.41c.39.39.9.59 1.41.59.51 0 1.02-.2 1.41-.59l7.78-7.78 2.81-2.81c.8-.78.8-2.07 0-2.86zM5.41 20L4 18.59l7.72-7.72 1.47 1.35L5.41 20z\"/>\n",
              "  </svg>\n",
              "      </button>\n",
              "      \n",
              "  <style>\n",
              "    .colab-df-container {\n",
              "      display:flex;\n",
              "      flex-wrap:wrap;\n",
              "      gap: 12px;\n",
              "    }\n",
              "\n",
              "    .colab-df-convert {\n",
              "      background-color: #E8F0FE;\n",
              "      border: none;\n",
              "      border-radius: 50%;\n",
              "      cursor: pointer;\n",
              "      display: none;\n",
              "      fill: #1967D2;\n",
              "      height: 32px;\n",
              "      padding: 0 0 0 0;\n",
              "      width: 32px;\n",
              "    }\n",
              "\n",
              "    .colab-df-convert:hover {\n",
              "      background-color: #E2EBFA;\n",
              "      box-shadow: 0px 1px 2px rgba(60, 64, 67, 0.3), 0px 1px 3px 1px rgba(60, 64, 67, 0.15);\n",
              "      fill: #174EA6;\n",
              "    }\n",
              "\n",
              "    [theme=dark] .colab-df-convert {\n",
              "      background-color: #3B4455;\n",
              "      fill: #D2E3FC;\n",
              "    }\n",
              "\n",
              "    [theme=dark] .colab-df-convert:hover {\n",
              "      background-color: #434B5C;\n",
              "      box-shadow: 0px 1px 3px 1px rgba(0, 0, 0, 0.15);\n",
              "      filter: drop-shadow(0px 1px 2px rgba(0, 0, 0, 0.3));\n",
              "      fill: #FFFFFF;\n",
              "    }\n",
              "  </style>\n",
              "\n",
              "      <script>\n",
              "        const buttonEl =\n",
              "          document.querySelector('#df-2b1eb773-8bcd-4915-b157-3740b09b03e7 button.colab-df-convert');\n",
              "        buttonEl.style.display =\n",
              "          google.colab.kernel.accessAllowed ? 'block' : 'none';\n",
              "\n",
              "        async function convertToInteractive(key) {\n",
              "          const element = document.querySelector('#df-2b1eb773-8bcd-4915-b157-3740b09b03e7');\n",
              "          const dataTable =\n",
              "            await google.colab.kernel.invokeFunction('convertToInteractive',\n",
              "                                                     [key], {});\n",
              "          if (!dataTable) return;\n",
              "\n",
              "          const docLinkHtml = 'Like what you see? Visit the ' +\n",
              "            '<a target=\"_blank\" href=https://colab.research.google.com/notebooks/data_table.ipynb>data table notebook</a>'\n",
              "            + ' to learn more about interactive tables.';\n",
              "          element.innerHTML = '';\n",
              "          dataTable['output_type'] = 'display_data';\n",
              "          await google.colab.output.renderOutput(dataTable, element);\n",
              "          const docLink = document.createElement('div');\n",
              "          docLink.innerHTML = docLinkHtml;\n",
              "          element.appendChild(docLink);\n",
              "        }\n",
              "      </script>\n",
              "    </div>\n",
              "  </div>\n",
              "  "
            ]
          },
          "metadata": {},
          "execution_count": 5
        }
      ],
      "source": [
        "db1 = pd.read_json(\"Sarcasm_Headlines_Dataset.json\", lines=True)\n",
        "db2 = pd.read_json(\"Sarcasm_Headlines_Dataset_v2.json\", lines=True)\n",
        "final_db =  pd.concat([db1, db2])\n",
        "final_db.head()"
      ]
    },
    {
      "cell_type": "markdown",
      "metadata": {
        "id": "NNrK2UCuf_9e"
      },
      "source": [
        "## *dataset cleaning*"
      ]
    },
    {
      "cell_type": "code",
      "execution_count": 6,
      "metadata": {
        "id": "K_9_uWicf_9e"
      },
      "outputs": [],
      "source": [
        "def data_clean(input):\n",
        "    input = input.lower()\n",
        "    \n",
        "    a = re.compile('http[s]?://(?:[a-zA-Z]|[0-9]|[$-_@.&+]|[!*\\(\\),]|(?:%[0-9a-fA-F][0-9a-fA-F]))+')\n",
        "    input = a.sub('', input)\n",
        "    input = \" \".join(filter(lambda x:x[0]!='@', input.split()))\n",
        "    emoticon = re.compile(\"[\"\n",
        "                           u\"\\U0001F600-\\U0001FFFF\"  \n",
        "                           u\"\\U0001F300-\\U0001F5FF\"  \n",
        "                           u\"\\U0001F680-\\U0001F6FF\"  \n",
        "                           u\"\\U0001F1E0-\\U0001F1FF\" \n",
        "                           u\"\\U00002702-\\U000027B0\"\n",
        "                           u\"\\U000024C2-\\U0001F251\"\n",
        "                           \"]+\", flags=re.UNICODE)\n",
        "    \n",
        "    input = emoticon.sub(r'', input)\n",
        "    input = input.lower()\n",
        "    input = re.sub(r\"i'm\", \"i am\", input)\n",
        "    input = re.sub(r\"he's\", \"he is\", input)\n",
        "    input = re.sub(r\"she's\", \"she is\", input)\n",
        "    input = re.sub(r\"that's\", \"that is\", input)        \n",
        "    input = re.sub(r\"what's\", \"what is\", input)\n",
        "    input = re.sub(r\"where's\", \"where is\", input) \n",
        "    input = re.sub(r\"\\'ll\", \" will\", input)  \n",
        "    input = re.sub(r\"\\'ve\", \" have\", input)  \n",
        "    input = re.sub(r\"\\'re\", \" are\", input)\n",
        "    input = re.sub(r\"\\'d\", \" would\", input)\n",
        "    input = re.sub(r\"\\'ve\", \" have\", input)\n",
        "    input = re.sub(r\"won't\", \"will not\", input)\n",
        "    input = re.sub(r\"don't\", \"do not\", input)\n",
        "    input = re.sub(r\"did't\", \"did not\", input)\n",
        "    input = re.sub(r\"can't\", \"can not\", input)\n",
        "    input = re.sub(r\"it's\", \"it is\", input)\n",
        "    input = re.sub(r\"couldn't\", \"could not\", input)\n",
        "    input = re.sub(r\"have't\", \"have not\", input)\n",
        "    input = re.sub(r\"[,.\\\"\\'!@#$%^&*(){}?/;`~:<>+=-]\", \"\", input)\n",
        "    return input"
      ]
    },
    {
      "cell_type": "code",
      "execution_count": 10,
      "metadata": {
        "colab": {
          "base_uri": "https://localhost:8080/"
        },
        "id": "F0PcOxUtf_9f",
        "outputId": "482c8e14-5763-45a5-9434-a865e318bf31"
      },
      "outputs": [
        {
          "output_type": "stream",
          "name": "stderr",
          "text": [
            "[nltk_data] Downloading package punkt to /root/nltk_data...\n",
            "[nltk_data]   Package punkt is already up-to-date!\n",
            "[nltk_data] Downloading package stopwords to /root/nltk_data...\n",
            "[nltk_data]   Package stopwords is already up-to-date!\n"
          ]
        },
        {
          "output_type": "execute_result",
          "data": {
            "text/plain": [
              "[['former',\n",
              "  'versace',\n",
              "  'store',\n",
              "  'clerk',\n",
              "  'sues',\n",
              "  'secret',\n",
              "  'black',\n",
              "  'code',\n",
              "  'minority',\n",
              "  'shoppers'],\n",
              " ['roseanne',\n",
              "  'revival',\n",
              "  'catches',\n",
              "  'thorny',\n",
              "  'political',\n",
              "  'mood',\n",
              "  'better',\n",
              "  'worse'],\n",
              " ['mom',\n",
              "  'starting',\n",
              "  'fear',\n",
              "  'sons',\n",
              "  'web',\n",
              "  'series',\n",
              "  'closest',\n",
              "  'thing',\n",
              "  'grandchild'],\n",
              " ['boehner',\n",
              "  'wants',\n",
              "  'wife',\n",
              "  'listen',\n",
              "  'come',\n",
              "  'alternative',\n",
              "  'debtreduction',\n",
              "  'ideas'],\n",
              " ['jk', 'rowling', 'wishes', 'snape', 'happy', 'birthday', 'magical', 'way'],\n",
              " ['advancing', 'worlds', 'women'],\n",
              " ['fascinating', 'case', 'eating', 'labgrown', 'meat'],\n",
              " ['ceo', 'send', 'kids', 'school', 'work', 'company'],\n",
              " ['top', 'snake', 'handler', 'leaves', 'sinking', 'huckabee', 'campaign'],\n",
              " ['fridays', 'morning', 'email', 'inside', 'trumps', 'presser', 'ages']]"
            ]
          },
          "metadata": {},
          "execution_count": 10
        }
      ],
      "source": [
        "import string\n",
        "import nltk\n",
        "nltk.download('punkt')\n",
        "nltk.download('stopwords')\n",
        "\n",
        "from nltk.tokenize import word_tokenize\n",
        "from nltk.corpus import stopwords\n",
        "\n",
        "def tokenize_text(df):\n",
        "    news_stmt = list()\n",
        "    stmt = df[\"headline\"].values.tolist()\n",
        "\n",
        "    for st in stmt:\n",
        "        st = data_clean(st)\n",
        "        \n",
        "        b = word_tokenize(st)\n",
        "       \n",
        "        c = str.maketrans('', '', string.punctuation)\n",
        "        splited = [w.translate(c) for w in b]\n",
        "        \n",
        "        characters = [w for w in splited if w.isalpha()]\n",
        "        sw = set(stopwords.words(\"english\"))\n",
        "        \n",
        "        characters = [w for w in characters if not w in sw]\n",
        "        news_stmt.append(characters)\n",
        "    return news_stmt\n",
        "\n",
        "news_stmt = tokenize_text(final_db)\n",
        "news_stmt[0:10]"
      ]
    },
    {
      "cell_type": "markdown",
      "metadata": {
        "id": "y1xRc3Qef_9g"
      },
      "source": [
        "## *Visualize the most occuring words*"
      ]
    },
    {
      "cell_type": "markdown",
      "metadata": {
        "id": "9FTJ4Nwzf_9g"
      },
      "source": [
        "from collections import Counter\n",
        "from wordcloud import WordCloud, ImageColorGenerator\n",
        "pos_data = final_db.loc[final_db['is_sarcastic'] == 1]\n",
        "pos_head_lines = tokenize_text(pos_data)\n",
        "pos_lines = [j for sub in pos_head_lines for j in sub] \n",
        "word_could_dict=Counter(pos_lines)\n",
        "\n",
        "wordcloud = WordCloud(width = 1000, height = 500).generate_from_frequencies(word_could_dict)\n",
        "plt.figure(figsize=(15,8))\n",
        "plt.imshow(wordcloud)\n",
        "plt.axis(\"off\")"
      ]
    },
    {
      "cell_type": "markdown",
      "metadata": {
        "id": "zlHKwKwGf_9h"
      },
      "source": [
        "## *Train-test split*"
      ]
    },
    {
      "cell_type": "code",
      "execution_count": 13,
      "metadata": {
        "colab": {
          "base_uri": "https://localhost:8080/"
        },
        "id": "Fe043rhaf_9h",
        "outputId": "5cb15b9b-492e-4469-c121-33d9974b20e1"
      },
      "outputs": [
        {
          "output_type": "stream",
          "name": "stdout",
          "text": [
            "the one and only tokens are -  28657\n",
            "size of vocabulary - 28658\n"
          ]
        }
      ],
      "source": [
        "splt_val = 0.2\n",
        "maximum_len = 25\n",
        "\n",
        "\n",
        "object_tokens = Tokenizer()\n",
        "object_tokens.fit_on_texts(news_stmt)\n",
        "seqn = object_tokens.texts_to_sequences(news_stmt)\n",
        "\n",
        "idx_of_words = object_tokens.word_index\n",
        "print(\"the one and only tokens are - \",len(idx_of_words))\n",
        "size_vocablry = len(object_tokens.word_index) + 1\n",
        "print('size of vocabulary -', size_vocablry)\n",
        "\n",
        "padding_of_stmt = pad_sequences(seqn, maxlen=maximum_len, padding='post')\n",
        "emotion =  final_db['is_sarcastic'].values\n",
        "\n",
        "indexes = np.arange(padding_of_stmt.shape[0])\n",
        "np.random.shuffle(indexes)\n",
        "padding_of_stmt = padding_of_stmt[indexes]\n",
        "emotion = emotion[indexes]\n",
        "\n",
        "val_sampl_numb = int(splt_val * padding_of_stmt.shape[0])\n",
        "\n",
        "x_train_padding = padding_of_stmt[:-val_sampl_numb]\n",
        "y_train = emotion[:-val_sampl_numb]\n",
        "x_test_padding = padding_of_stmt[-val_sampl_numb:]\n",
        "y_test = emotion[-val_sampl_numb:]"
      ]
    },
    {
      "cell_type": "code",
      "execution_count": 14,
      "metadata": {
        "colab": {
          "base_uri": "https://localhost:8080/"
        },
        "id": "olp-MGpef_9i",
        "outputId": "9f693d9c-eb6a-4f1b-d49e-d2c6c5f8a7f0"
      },
      "outputs": [
        {
          "output_type": "stream",
          "name": "stdout",
          "text": [
            " x_train_padding_shape: (44263, 25)\n",
            " y_train_shape: (44263,)\n",
            " x_test_padding_shape: (11065, 25)\n",
            " y_test_shape: (11065,)\n"
          ]
        }
      ],
      "source": [
        "print(' x_train_padding_shape:', x_train_padding.shape)\n",
        "print(' y_train_shape:', y_train.shape)\n",
        "\n",
        "print(' x_test_padding_shape:', x_test_padding.shape)\n",
        "print(' y_test_shape:', y_test.shape)"
      ]
    },
    {
      "cell_type": "markdown",
      "metadata": {
        "id": "_bJJ0-lWf_9i"
      },
      "source": [
        "## *GloVe model Loading *"
      ]
    },
    {
      "cell_type": "code",
      "execution_count": 15,
      "metadata": {
        "colab": {
          "base_uri": "https://localhost:8080/",
          "height": 235
        },
        "id": "D15OrTJ7f_9i",
        "outputId": "7cbb7550-efb7-4f53-beb0-83a074352906"
      },
      "outputs": [
        {
          "output_type": "error",
          "ename": "FileNotFoundError",
          "evalue": "ignored",
          "traceback": [
            "\u001b[0;31m---------------------------------------------------------------------------\u001b[0m",
            "\u001b[0;31mFileNotFoundError\u001b[0m                         Traceback (most recent call last)",
            "\u001b[0;32m<ipython-input-15-c145cd161bcc>\u001b[0m in \u001b[0;36m<module>\u001b[0;34m\u001b[0m\n\u001b[1;32m      1\u001b[0m \u001b[0mindx_of_emb\u001b[0m \u001b[0;34m=\u001b[0m \u001b[0;34m{\u001b[0m\u001b[0;34m}\u001b[0m\u001b[0;34m\u001b[0m\u001b[0;34m\u001b[0m\u001b[0m\n\u001b[1;32m      2\u001b[0m \u001b[0mdimension_of_emb\u001b[0m \u001b[0;34m=\u001b[0m \u001b[0;36m100\u001b[0m\u001b[0;34m\u001b[0m\u001b[0;34m\u001b[0m\u001b[0m\n\u001b[0;32m----> 3\u001b[0;31m \u001b[0mf\u001b[0m \u001b[0;34m=\u001b[0m \u001b[0mopen\u001b[0m\u001b[0;34m(\u001b[0m\u001b[0mos\u001b[0m\u001b[0;34m.\u001b[0m\u001b[0mpath\u001b[0m\u001b[0;34m.\u001b[0m\u001b[0mjoin\u001b[0m\u001b[0;34m(\u001b[0m\u001b[0;34m'glove.twitter.27B.100d.txt'\u001b[0m\u001b[0;34m)\u001b[0m\u001b[0;34m,\u001b[0m \u001b[0mencoding\u001b[0m \u001b[0;34m=\u001b[0m \u001b[0;34m\"utf-8\"\u001b[0m\u001b[0;34m)\u001b[0m\u001b[0;34m\u001b[0m\u001b[0;34m\u001b[0m\u001b[0m\n\u001b[0m\u001b[1;32m      4\u001b[0m \u001b[0;32mfor\u001b[0m \u001b[0mst\u001b[0m \u001b[0;32min\u001b[0m \u001b[0mf\u001b[0m\u001b[0;34m:\u001b[0m\u001b[0;34m\u001b[0m\u001b[0;34m\u001b[0m\u001b[0m\n\u001b[1;32m      5\u001b[0m     \u001b[0mvalues\u001b[0m \u001b[0;34m=\u001b[0m \u001b[0mst\u001b[0m\u001b[0;34m.\u001b[0m\u001b[0msplit\u001b[0m\u001b[0;34m(\u001b[0m\u001b[0;34m)\u001b[0m\u001b[0;34m\u001b[0m\u001b[0;34m\u001b[0m\u001b[0m\n",
            "\u001b[0;31mFileNotFoundError\u001b[0m: [Errno 2] No such file or directory: 'glove.twitter.27B.100d.txt'"
          ]
        }
      ],
      "source": [
        "indx_of_emb = {}\n",
        "dimension_of_emb = 100\n",
        "f = open(os.path.join('glove.twitter.27B.100d.txt'), encoding = \"utf-8\")\n",
        "for st in f:\n",
        "    values = st.split()\n",
        "    w = values[0]\n",
        "    coefficients = np.asarray(values[1:], dtype='float32')\n",
        "    indx_of_emb[w] = coefficients\n",
        "f.close()\n",
        "\n",
        "print('Found %s word vectors.' % len(indx_of_emb))"
      ]
    },
    {
      "cell_type": "markdown",
      "metadata": {
        "id": "_tuyh44of_9j"
      },
      "source": [
        "## *now, lets construct the embedding layer*"
      ]
    },
    {
      "cell_type": "code",
      "execution_count": null,
      "metadata": {
        "id": "gDgWibe_f_9j",
        "outputId": "d8862611-6873-49ff-92ac-febe12ebbddd"
      },
      "outputs": [
        {
          "name": "stdout",
          "output_type": "stream",
          "text": [
            "24755\n"
          ]
        }
      ],
      "source": [
        "matrx_of_emb = np.zeros((len(idx_of_words) + 1, dimension_of_emb))\n",
        "c = 0\n",
        "for w, i in idx_of_words.items():\n",
        "    vect_of_emb = indx_of_emb.get(w)\n",
        "    if vect_of_emb is not None:\n",
        "        c+=1\n",
        "        matrx_of_emb[i] = vect_of_emb\n",
        "print(c)"
      ]
    },
    {
      "cell_type": "code",
      "execution_count": null,
      "metadata": {
        "id": "cP0OPGZsf_9j"
      },
      "outputs": [],
      "source": [
        "layer_of_emb = Embedding(len(idx_of_words) + 1,\n",
        "                            dimension_of_emb,\n",
        "                            weights=[matrx_of_emb],\n",
        "                            input_length=maximum_len,\n",
        "                            trainable=False)"
      ]
    },
    {
      "cell_type": "markdown",
      "metadata": {
        "id": "0pzO1fcBf_9k"
      },
      "source": [
        "## *RNN model building*"
      ]
    },
    {
      "cell_type": "code",
      "execution_count": null,
      "metadata": {
        "id": "Sm4DHuLjf_9k",
        "outputId": "8a1b23ac-1ad3-4908-f486-38147361b0f0"
      },
      "outputs": [
        {
          "name": "stdout",
          "output_type": "stream",
          "text": [
            "Summary of the built model...\n",
            "Model: \"sequential\"\n",
            "_________________________________________________________________\n",
            " Layer (type)                Output Shape              Param #   \n",
            "=================================================================\n",
            " embedding (Embedding)       (None, 25, 100)           2865800   \n",
            "                                                                 \n",
            " lstm (LSTM)                 (None, 64)                42240     \n",
            "                                                                 \n",
            " dense (Dense)               (None, 1)                 65        \n",
            "                                                                 \n",
            "=================================================================\n",
            "Total params: 2,908,105\n",
            "Trainable params: 42,305\n",
            "Non-trainable params: 2,865,800\n",
            "_________________________________________________________________\n",
            "None\n"
          ]
        }
      ],
      "source": [
        "model = Sequential()\n",
        "model.add(layer_of_emb)\n",
        "model.add(LSTM(64, dropout=0.2, recurrent_dropout=0.25))\n",
        "model.add(Dense(1, activation='sigmoid'))\n",
        "\n",
        "model.compile(loss='binary_crossentropy', optimizer='adam', metrics=['acc'])\n",
        "\n",
        "print('Summary of the built model...')\n",
        "print(model.summary())"
      ]
    },
    {
      "cell_type": "markdown",
      "metadata": {
        "id": "yqt6qLfWf_9k"
      },
      "source": [
        "## *Training*"
      ]
    },
    {
      "cell_type": "code",
      "execution_count": null,
      "metadata": {
        "id": "ZyJl3as8f_9l",
        "outputId": "47a5df5d-5776-4e7c-b152-b826d0d82b7a"
      },
      "outputs": [
        {
          "name": "stdout",
          "output_type": "stream",
          "text": [
            "Epoch 1/25\n",
            "1384/1384 - 31s - loss: 0.5101 - acc: 0.7487 - val_loss: 0.4253 - val_acc: 0.8110 - 31s/epoch - 22ms/step\n",
            "Epoch 2/25\n",
            "1384/1384 - 27s - loss: 0.4310 - acc: 0.8001 - val_loss: 0.3864 - val_acc: 0.8259 - 27s/epoch - 20ms/step\n",
            "Epoch 3/25\n",
            "1384/1384 - 28s - loss: 0.3929 - acc: 0.8223 - val_loss: 0.3536 - val_acc: 0.8434 - 28s/epoch - 20ms/step\n",
            "Epoch 4/25\n",
            "1384/1384 - 27s - loss: 0.3618 - acc: 0.8385 - val_loss: 0.3601 - val_acc: 0.8372 - 27s/epoch - 20ms/step\n",
            "Epoch 5/25\n",
            "1384/1384 - 27s - loss: 0.3379 - acc: 0.8510 - val_loss: 0.3352 - val_acc: 0.8503 - 27s/epoch - 20ms/step\n",
            "Epoch 6/25\n",
            "1384/1384 - 28s - loss: 0.3201 - acc: 0.8614 - val_loss: 0.3497 - val_acc: 0.8472 - 28s/epoch - 20ms/step\n",
            "Epoch 7/25\n",
            "1384/1384 - 28s - loss: 0.3044 - acc: 0.8690 - val_loss: 0.3104 - val_acc: 0.8675 - 28s/epoch - 20ms/step\n",
            "Epoch 8/25\n",
            "1384/1384 - 28s - loss: 0.2876 - acc: 0.8759 - val_loss: 0.2932 - val_acc: 0.8813 - 28s/epoch - 20ms/step\n",
            "Epoch 9/25\n",
            "1384/1384 - 27s - loss: 0.2738 - acc: 0.8848 - val_loss: 0.2852 - val_acc: 0.8779 - 27s/epoch - 20ms/step\n",
            "Epoch 10/25\n",
            "1384/1384 - 28s - loss: 0.2652 - acc: 0.8880 - val_loss: 0.2749 - val_acc: 0.8852 - 28s/epoch - 20ms/step\n",
            "Epoch 11/25\n",
            "1384/1384 - 27s - loss: 0.2573 - acc: 0.8924 - val_loss: 0.2742 - val_acc: 0.8849 - 27s/epoch - 20ms/step\n",
            "Epoch 12/25\n",
            "1384/1384 - 28s - loss: 0.2452 - acc: 0.8992 - val_loss: 0.2655 - val_acc: 0.8897 - 28s/epoch - 20ms/step\n",
            "Epoch 13/25\n",
            "1384/1384 - 28s - loss: 0.2390 - acc: 0.9006 - val_loss: 0.2628 - val_acc: 0.8928 - 28s/epoch - 20ms/step\n",
            "Epoch 14/25\n",
            "1384/1384 - 28s - loss: 0.2317 - acc: 0.9045 - val_loss: 0.2501 - val_acc: 0.9003 - 28s/epoch - 20ms/step\n",
            "Epoch 15/25\n",
            "1384/1384 - 28s - loss: 0.2238 - acc: 0.9080 - val_loss: 0.2466 - val_acc: 0.9028 - 28s/epoch - 20ms/step\n",
            "Epoch 16/25\n",
            "1384/1384 - 28s - loss: 0.2189 - acc: 0.9109 - val_loss: 0.2448 - val_acc: 0.9037 - 28s/epoch - 21ms/step\n",
            "Epoch 17/25\n",
            "1384/1384 - 28s - loss: 0.2168 - acc: 0.9111 - val_loss: 0.2498 - val_acc: 0.8992 - 28s/epoch - 20ms/step\n",
            "Epoch 18/25\n",
            "1384/1384 - 29s - loss: 0.2123 - acc: 0.9129 - val_loss: 0.2442 - val_acc: 0.9068 - 29s/epoch - 21ms/step\n",
            "Epoch 19/25\n",
            "1384/1384 - 28s - loss: 0.2059 - acc: 0.9162 - val_loss: 0.2365 - val_acc: 0.9059 - 28s/epoch - 20ms/step\n",
            "Epoch 20/25\n",
            "1384/1384 - 27s - loss: 0.2003 - acc: 0.9188 - val_loss: 0.2386 - val_acc: 0.9121 - 27s/epoch - 20ms/step\n",
            "Epoch 21/25\n",
            "1384/1384 - 28s - loss: 0.1970 - acc: 0.9191 - val_loss: 0.2298 - val_acc: 0.9126 - 28s/epoch - 20ms/step\n",
            "Epoch 22/25\n",
            "1384/1384 - 27s - loss: 0.1953 - acc: 0.9207 - val_loss: 0.2189 - val_acc: 0.9199 - 27s/epoch - 20ms/step\n",
            "Epoch 23/25\n",
            "1384/1384 - 28s - loss: 0.1887 - acc: 0.9231 - val_loss: 0.2155 - val_acc: 0.9219 - 28s/epoch - 20ms/step\n",
            "Epoch 24/25\n",
            "1384/1384 - 28s - loss: 0.1867 - acc: 0.9263 - val_loss: 0.2395 - val_acc: 0.9107 - 28s/epoch - 20ms/step\n",
            "Epoch 25/25\n",
            "1384/1384 - 28s - loss: 0.1845 - acc: 0.9242 - val_loss: 0.2240 - val_acc: 0.9231 - 28s/epoch - 20ms/step\n"
          ]
        }
      ],
      "source": [
        "history = model.fit(x_train_padding, y_train, batch_size=32, epochs=25, validation_data=(x_test_padding, y_test), verbose=2)"
      ]
    },
    {
      "cell_type": "markdown",
      "metadata": {
        "id": "VWgjci3uf_9l"
      },
      "source": [
        "## *plotting results*"
      ]
    },
    {
      "cell_type": "code",
      "execution_count": null,
      "metadata": {
        "id": "ury5vnXzf_9l",
        "outputId": "9d36cceb-f68c-435d-c820-085c972bcc9f"
      },
      "outputs": [
        {
          "data": {
            "image/png": "[encoded data removed]",
            "text/plain": [
              "<Figure size 432x288 with 1 Axes>"
            ]
          },
          "metadata": {
            "needs_background": "light"
          },
          "output_type": "display_data"
        },
        {
          "data": {
            "image/png": "[encoded data removed]",
            "text/plain": [
              "<Figure size 432x288 with 1 Axes>"
            ]
          },
          "metadata": {
            "needs_background": "light"
          },
          "output_type": "display_data"
        }
      ],
      "source": [
        "acc = history.history['acc']\n",
        "val_acc = history.history['val_acc']\n",
        "loss = history.history['loss']\n",
        "val_loss = history.history['val_loss']\n",
        "\n",
        "epochs = range(1, len(acc)+1)\n",
        "\n",
        "plt.plot(epochs, acc, 'g', label='acuracy of training')\n",
        "plt.plot(epochs, val_acc, 'r', label='accuracy of validation')\n",
        "plt.title('accuracy of Training and validation')\n",
        "plt.legend()\n",
        "\n",
        "plt.figure()\n",
        "\n",
        "plt.plot(epochs, loss, 'g', label='loss of training')\n",
        "plt.plot(epochs, val_loss, 'r', label='loss of val')\n",
        "plt.title('loss of Training and validation ')\n",
        "plt.legend()\n",
        "\n",
        "plt.show()"
      ]
    },
    {
      "cell_type": "markdown",
      "metadata": {
        "id": "sRkzN7h7f_9l"
      },
      "source": [
        "<hr>\n",
        "<h2><i>checking if it can predict sarcasm in sentence?</i></h2>"
      ]
    },
    {
      "cell_type": "code",
      "execution_count": null,
      "metadata": {
        "id": "xJLoA6NYf_9m"
      },
      "outputs": [],
      "source": [
        "def detect_sarcasm(s,model):\n",
        "    final_x = pd.DataFrame({\"headline\":[s]})\n",
        "    lines_for_testing = tokenize_text(final_x)\n",
        "    seq_test = object_tokens.texts_to_sequences(lines_for_testing)\n",
        "    padding_test_rev = pad_sequences(seq_test, maxlen=maximum_len, padding='post')\n",
        "    pred = model.predict(padding_test_rev)\n",
        "    pred*=100\n",
        "    if pred[0][0]>=50: return \"It's a sarcasm!\" \n",
        "    else: return \"It's not a sarcasm.\""
      ]
    },
    {
      "cell_type": "markdown",
      "metadata": {
        "id": "S1Iz1SOwf_9m"
      },
      "source": [
        "### *right prediction*"
      ]
    },
    {
      "cell_type": "code",
      "execution_count": null,
      "metadata": {
        "id": "Oowp--E-f_9m",
        "outputId": "4224daac-495b-4eb2-ecba-f9650061bacf"
      },
      "outputs": [
        {
          "name": "stdout",
          "output_type": "stream",
          "text": [
            "1/1 [==============================] - 0s 327ms/step\n"
          ]
        },
        {
          "data": {
            "text/plain": [
              "\"It's a sarcasm!\""
            ]
          },
          "execution_count": 19,
          "metadata": {},
          "output_type": "execute_result"
        }
      ],
      "source": [
        "detect_sarcasm(\"I was depressed. He asked me to be happy. I am not depressed anymore.\",model)"
      ]
    },
    {
      "cell_type": "code",
      "execution_count": null,
      "metadata": {
        "id": "_AILdNe8f_9m",
        "outputId": "dfdb02a8-4ae8-48b7-c646-5e539cf432b5"
      },
      "outputs": [
        {
          "name": "stdout",
          "output_type": "stream",
          "text": [
            "1/1 [==============================] - 0s 16ms/step\n"
          ]
        },
        {
          "data": {
            "text/plain": [
              "\"It's a sarcasm!\""
            ]
          },
          "execution_count": 26,
          "metadata": {},
          "output_type": "execute_result"
        }
      ],
      "source": [
        "detect_sarcasm(\"You just broke my car window. Great job.\",model)"
      ]
    },
    {
      "cell_type": "code",
      "execution_count": null,
      "metadata": {
        "id": "CIrgc1oWf_9n",
        "outputId": "6ebf5fb5-70d2-4a09-c237-8885aff0f092"
      },
      "outputs": [
        {
          "ename": "TypeError",
          "evalue": "predict_sarcasm() missing 1 required positional argument: 'model'",
          "output_type": "error",
          "traceback": [
            "\u001b[1;31m---------------------------------------------------------------------------\u001b[0m",
            "\u001b[1;31mTypeError\u001b[0m                                 Traceback (most recent call last)",
            "Input \u001b[1;32mIn [27]\u001b[0m, in \u001b[0;36m<cell line: 1>\u001b[1;34m()\u001b[0m\n\u001b[1;32m----> 1\u001b[0m \u001b[43mpredict_sarcasm\u001b[49m\u001b[43m(\u001b[49m\u001b[38;5;124;43m\"\u001b[39;49m\u001b[38;5;124;43mYou just saved my dog\u001b[39;49m\u001b[38;5;124;43m'\u001b[39;49m\u001b[38;5;124;43ms life. Thanks a million.\u001b[39;49m\u001b[38;5;124;43m\"\u001b[39;49m\u001b[43m)\u001b[49m\n",
            "\u001b[1;31mTypeError\u001b[0m: predict_sarcasm() missing 1 required positional argument: 'model'"
          ]
        }
      ],
      "source": [
        "detect_sarcasm(\"You just saved my dog's life. Thanks a million.\",model)"
      ]
    },
    {
      "cell_type": "code",
      "execution_count": null,
      "metadata": {
        "id": "tKprVSy7f_9n",
        "outputId": "23c3f8a9-0652-4de8-bf2d-48eab6bfbe8f"
      },
      "outputs": [
        {
          "name": "stdout",
          "output_type": "stream",
          "text": [
            "1/1 [==============================] - 0s 15ms/step\n"
          ]
        },
        {
          "data": {
            "text/plain": [
              "\"It's not a sarcasm.\""
            ]
          },
          "execution_count": 28,
          "metadata": {},
          "output_type": "execute_result"
        }
      ],
      "source": [
        "detect_sarcasm(\"I want a million dollars!\",model)"
      ]
    },
    {
      "cell_type": "code",
      "execution_count": null,
      "metadata": {
        "id": "EowrmG2Of_9n",
        "outputId": "ebdf10a7-26fb-491c-e7fb-739537369fdd"
      },
      "outputs": [
        {
          "name": "stdout",
          "output_type": "stream",
          "text": [
            "1/1 [==============================] - 0s 18ms/step\n"
          ]
        },
        {
          "data": {
            "text/plain": [
              "\"It's a sarcasm!\""
            ]
          },
          "execution_count": 29,
          "metadata": {},
          "output_type": "execute_result"
        }
      ],
      "source": [
        "detect_sarcasm(\"I just won a million dollars!\",model)"
      ]
    },
    {
      "cell_type": "markdown",
      "metadata": {
        "id": "IyClX2a2f_9n"
      },
      "source": [
        "### *wrong prediction*"
      ]
    },
    {
      "cell_type": "code",
      "execution_count": null,
      "metadata": {
        "id": "Upv1wRJMf_9o"
      },
      "outputs": [],
      "source": [
        "detect_sarcasm(\"His name is Bob. He is a nice person.\")"
      ]
    },
    {
      "cell_type": "code",
      "execution_count": null,
      "metadata": {
        "id": "kgX47P7Tf_9o"
      },
      "outputs": [],
      "source": [
        "detect_sarcasm(\"Sarcasm is very easy to detect.\")"
      ]
    },
    {
      "cell_type": "code",
      "execution_count": null,
      "metadata": {
        "id": "LjIuSHR5f_9o"
      },
      "outputs": [],
      "source": [
        "import pickle"
      ]
    },
    {
      "cell_type": "code",
      "execution_count": null,
      "metadata": {
        "id": "xHe_fAbVf_9o"
      },
      "outputs": [],
      "source": [
        "pickle.dump(model, open(\"model.pkl\", \"wb\"))"
      ]
    },
    {
      "cell_type": "markdown",
      "source": [
        "saving the final model"
      ],
      "metadata": {
        "id": "b8EAzC_QwCyh"
      }
    },
    {
      "cell_type": "code",
      "execution_count": null,
      "metadata": {
        "id": "eHZiuoRYf_9o"
      },
      "outputs": [],
      "source": [
        "from keras.models import load_model\n",
        "model.save('model.h5')\n",
        "model_final = load_model('model.h5')"
      ]
    },
    {
      "cell_type": "code",
      "execution_count": null,
      "metadata": {
        "id": "0aD0AzMcf_9p"
      },
      "outputs": [],
      "source": [
        "def chatbot_response(msg):\n",
        "    ints = detect_sarcasm(msg,model_final)\n",
        "   \n",
        "    return ints"
      ]
    },
    {
      "cell_type": "code",
      "execution_count": null,
      "metadata": {
        "id": "PnUqQ7Fbf_9p"
      },
      "outputs": [],
      "source": [
        "import tkinter\n",
        "from tkinter import *"
      ]
    },
    {
      "cell_type": "code",
      "execution_count": null,
      "metadata": {
        "id": "OZGyLI2if_9p",
        "outputId": "c1eee2b5-f6f5-4658-a1fa-56ae5e0d76fd"
      },
      "outputs": [
        {
          "name": "stdout",
          "output_type": "stream",
          "text": [
            "1/1 [==============================] - 0s 16ms/step\n"
          ]
        }
      ],
      "source": [
        "def send():\n",
        "    message = EntryBox.get(\"1.0\", \"end-1c\").strip()\n",
        "    EntryBox.delete(\"0.0\", END)\n",
        "    \n",
        "    if message != '':\n",
        "        ChatLog.config(state=NORMAL)\n",
        "        ChatLog.insert(END, \"Statement: \" + message + '\\n\\n')\n",
        "        ChatLog.config(foreground=\"#442265\", font=(\"Verdana\", 12 ))\n",
        "        \n",
        "        res = chatbot_response(message)\n",
        "        ChatLog.insert(END, \"Prediction: \" + res + '\\n\\n')\n",
        "        \n",
        "        ChatLog.config(state=DISABLED)\n",
        "        ChatLog.yview(END)\n",
        "\n",
        "        \n",
        "base = Tk()\n",
        "base.title(\"Sarcasm Detection\")\n",
        "base.geometry(\"400x500\")\n",
        "base.resizable(width=FALSE, height=FALSE)\n",
        "\n",
        "#Create Chat window\n",
        "ChatLog = Text(base, bd=0, bg=\"white\", height=\"8\", width=\"50\", font=\"Arial\",)\n",
        "\n",
        "ChatLog.config(state=DISABLED)\n",
        "\n",
        "#Bind scrollbar to Chat window\n",
        "scrollbar = Scrollbar(base, command=ChatLog.yview, cursor=\"heart\")\n",
        "ChatLog['yscrollcommand'] = scrollbar.set\n",
        "\n",
        "#Create Button to send message\n",
        "SendButton = Button(base, font=(\"Verdana\",12,'bold'), text=\"Send\", width=\"12\", height=5,\n",
        "                    bd=0, bg=\"#32de97\", activebackground=\"#3c9d9b\",fg='#ffffff',\n",
        "                    command= send )\n",
        "#Create the box to enter message\n",
        "EntryBox = Text(base, bd=0, bg=\"white\",width=\"29\", height=\"5\", font=\"Arial\")\n",
        "\n",
        "scrollbar.place(x=376,y=6, height=386)\n",
        "ChatLog.place(x=6,y=6, height=386, width=370)\n",
        "EntryBox.place(x=128, y=401, height=90, width=265)\n",
        "SendButton.place(x=6, y=401, height=90)\n",
        "\n",
        "base.mainloop()\n"
      ]
    },
    {
      "cell_type": "code",
      "execution_count": null,
      "metadata": {
        "id": "QbQkdGg1f_9p"
      },
      "outputs": [],
      "source": []
    }
  ],
  "metadata": {
    "kernelspec": {
      "display_name": "Python 3 (ipykernel)",
      "language": "python",
      "name": "python3"
    },
    "language_info": {
      "codemirror_mode": {
        "name": "ipython",
        "version": 3
      },
      "file_extension": ".py",
      "mimetype": "text/x-python",
      "name": "python",
      "nbconvert_exporter": "python",
      "pygments_lexer": "ipython3",
      "version": "3.9.12"
    },
    "colab": {
      "provenance": []
    }
  },
  "nbformat": 4,
  "nbformat_minor": 0
}