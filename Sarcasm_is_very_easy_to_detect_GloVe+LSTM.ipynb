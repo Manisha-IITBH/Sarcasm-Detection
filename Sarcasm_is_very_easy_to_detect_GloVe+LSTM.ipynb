{
  "cells": [
    {
      "cell_type": "markdown",
      "metadata": {
        "id": "Minl2PVLf_9R"
      },
      "source": [
        "*italicized text*## *libraries*"
      ]
    },
    {
      "cell_type": "code",
      "execution_count": 1,
      "metadata": {
        "id": "-l-NvE1wf_9W"
      },
      "outputs": [],
      "source": [
        "\n",
        "from keras.preprocessing.text import Tokenizer\n",
        "from keras_preprocessing.sequence import pad_sequences\n"
      ]
    },
    {
      "cell_type": "code",
      "execution_count": null,
      "metadata": {
        "id": "4OTGIEJgf_9Y",
        "outputId": "d81e87c6-7541-433e-afff-808f60f0d37d"
      },
      "outputs": [
        {
          "name": "stdout",
          "output_type": "stream",
          "text": [
            "Note: you may need to restart the kernel to use updated packages.\n"
          ]
        },
        {
          "name": "stderr",
          "output_type": "stream",
          "text": [
            "Traceback (most recent call last):\n",
            "  File \"C:\\Users\\shubh\\anaconda3\\lib\\runpy.py\", line 197, in _run_module_as_main\n",
            "    return _run_code(code, main_globals, None,\n",
            "  File \"C:\\Users\\shubh\\anaconda3\\lib\\runpy.py\", line 87, in _run_code\n",
            "    exec(code, run_globals)\n",
            "  File \"C:\\Users\\shubh\\anaconda3\\lib\\site-packages\\pip\\__main__.py\", line 29, in <module>\n",
            "    from pip._internal.cli.main import main as _main\n",
            "  File \"C:\\Users\\shubh\\anaconda3\\lib\\site-packages\\pip\\_internal\\cli\\main.py\", line 9, in <module>\n",
            "    from pip._internal.cli.autocompletion import autocomplete\n",
            "  File \"C:\\Users\\shubh\\anaconda3\\lib\\site-packages\\pip\\_internal\\cli\\autocompletion.py\", line 10, in <module>\n",
            "    from pip._internal.cli.main_parser import create_main_parser\n",
            "  File \"C:\\Users\\shubh\\anaconda3\\lib\\site-packages\\pip\\_internal\\cli\\main_parser.py\", line 9, in <module>\n",
            "    from pip._internal.build_env import get_runnable_pip\n",
            "  File \"C:\\Users\\shubh\\anaconda3\\lib\\site-packages\\pip\\_internal\\build_env.py\", line 16, in <module>\n",
            "    from pip._vendor.packaging.requirements import Requirement\n",
            "  File \"C:\\Users\\shubh\\anaconda3\\lib\\site-packages\\pip\\_vendor\\packaging\\requirements.py\", line 10, in <module>\n",
            "    from pip._vendor.pyparsing import (  # noqa\n",
            "ImportError: cannot import name 'Combine' from 'pip._vendor.pyparsing' (unknown location)\n"
          ]
        }
      ],
      "source": [
        "pip install tensorflow"
      ]
    },
    {
      "cell_type": "code",
      "execution_count": 2,
      "metadata": {
        "id": "XtwGhgq2f_9Z"
      },
      "outputs": [],
      "source": [
        "import numpy as np \n",
        "import pandas as pd \n",
        "import os\n",
        "import re\n",
        "import matplotlib.pyplot as plt\n",
        "import keras\n",
        "import tensorflow as tf"
      ]
    },
    {
      "cell_type": "code",
      "execution_count": 3,
      "metadata": {
        "id": "yhGgVEyhf_9b"
      },
      "outputs": [],
      "source": [
        "from keras.models import Sequential\n",
        "from keras.layers import Dense, Embedding, GRU, LSTM, Bidirectional\n",
        "from keras.layers import Embedding\n",
        "from keras.initializers import Constant\n",
        "from keras.callbacks import ModelCheckpoint\n",
        "from keras.models import load_model"
      ]
    },
    {
      "cell_type": "code",
      "execution_count": 4,
      "metadata": {
        "id": "0AwKV7VBf_9c"
      },
      "outputs": [],
      "source": [
        "from keras.utils.generic_utils import CustomObjectScope"
      ]
    },
    {
      "cell_type": "markdown",
      "metadata": {
        "id": "BL37EFdef_9c"
      },
      "source": [
        "\n",
        "\n",
        "## *Reading the dataset*"
      ]
    },
    {
      "cell_type": "code",
      "execution_count": 5,
      "metadata": {
        "colab": {
          "base_uri": "https://localhost:8080/",
          "height": 206
        },
        "id": "rr0FmBdtf_9d",
        "outputId": "20a343f9-6588-40ae-c4c8-5cced3db8891"
      },
      "outputs": [
        {
          "output_type": "execute_result",
          "data": {
            "text/plain": [
              "                                        article_link  \\\n",
              "0  https://www.huffingtonpost.com/entry/versace-b...   \n",
              "1  https://www.huffingtonpost.com/entry/roseanne-...   \n",
              "2  https://local.theonion.com/mom-starting-to-fea...   \n",
              "3  https://politics.theonion.com/boehner-just-wan...   \n",
              "4  https://www.huffingtonpost.com/entry/jk-rowlin...   \n",
              "\n",
              "                                            headline  is_sarcastic  \n",
              "0  former versace store clerk sues over secret 'b...             0  \n",
              "1  the 'roseanne' revival catches up to our thorn...             0  \n",
              "2  mom starting to fear son's web series closest ...             1  \n",
              "3  boehner just wants wife to listen, not come up...             1  \n",
              "4  j.k. rowling wishes snape happy birthday in th...             0  "
            ],
            "text/html": [
              "\n",
              "  <div id=\"df-2b1eb773-8bcd-4915-b157-3740b09b03e7\">\n",
              "    <div class=\"colab-df-container\">\n",
              "      <div>\n",
              "<style scoped>\n",
              "    .dataframe tbody tr th:only-of-type {\n",
              "        vertical-align: middle;\n",
              "    }\n",
              "\n",
              "    .dataframe tbody tr th {\n",
              "        vertical-align: top;\n",
              "    }\n",
              "\n",
              "    .dataframe thead th {\n",
              "        text-align: right;\n",
              "    }\n",
              "</style>\n",
              "<table border=\"1\" class=\"dataframe\">\n",
              "  <thead>\n",
              "    <tr style=\"text-align: right;\">\n",
              "      <th></th>\n",
              "      <th>article_link</th>\n",
              "      <th>headline</th>\n",
              "      <th>is_sarcastic</th>\n",
              "    </tr>\n",
              "  </thead>\n",
              "  <tbody>\n",
              "    <tr>\n",
              "      <th>0</th>\n",
              "      <td>https://www.huffingtonpost.com/entry/versace-b...</td>\n",
              "      <td>former versace store clerk sues over secret 'b...</td>\n",
              "      <td>0</td>\n",
              "    </tr>\n",
              "    <tr>\n",
              "      <th>1</th>\n",
              "      <td>https://www.huffingtonpost.com/entry/roseanne-...</td>\n",
              "      <td>the 'roseanne' revival catches up to our thorn...</td>\n",
              "      <td>0</td>\n",
              "    </tr>\n",
              "    <tr>\n",
              "      <th>2</th>\n",
              "      <td>https://local.theonion.com/mom-starting-to-fea...</td>\n",
              "      <td>mom starting to fear son's web series closest ...</td>\n",
              "      <td>1</td>\n",
              "    </tr>\n",
              "    <tr>\n",
              "      <th>3</th>\n",
              "      <td>https://politics.theonion.com/boehner-just-wan...</td>\n",
              "      <td>boehner just wants wife to listen, not come up...</td>\n",
              "      <td>1</td>\n",
              "    </tr>\n",
              "    <tr>\n",
              "      <th>4</th>\n",
              "      <td>https://www.huffingtonpost.com/entry/jk-rowlin...</td>\n",
              "      <td>j.k. rowling wishes snape happy birthday in th...</td>\n",
              "      <td>0</td>\n",
              "    </tr>\n",
              "  </tbody>\n",
              "</table>\n",
              "</div>\n",
              "      <button class=\"colab-df-convert\" onclick=\"convertToInteractive('df-2b1eb773-8bcd-4915-b157-3740b09b03e7')\"\n",
              "              title=\"Convert this dataframe to an interactive table.\"\n",
              "              style=\"display:none;\">\n",
              "        \n",
              "  <svg xmlns=\"http://www.w3.org/2000/svg\" height=\"24px\"viewBox=\"0 0 24 24\"\n",
              "       width=\"24px\">\n",
              "    <path d=\"M0 0h24v24H0V0z\" fill=\"none\"/>\n",
              "    <path d=\"M18.56 5.44l.94 2.06.94-2.06 2.06-.94-2.06-.94-.94-2.06-.94 2.06-2.06.94zm-11 1L8.5 8.5l.94-2.06 2.06-.94-2.06-.94L8.5 2.5l-.94 2.06-2.06.94zm10 10l.94 2.06.94-2.06 2.06-.94-2.06-.94-.94-2.06-.94 2.06-2.06.94z\"/><path d=\"M17.41 7.96l-1.37-1.37c-.4-.4-.92-.59-1.43-.59-.52 0-1.04.2-1.43.59L10.3 9.45l-7.72 7.72c-.78.78-.78 2.05 0 2.83L4 21.41c.39.39.9.59 1.41.59.51 0 1.02-.2 1.41-.59l7.78-7.78 2.81-2.81c.8-.78.8-2.07 0-2.86zM5.41 20L4 18.59l7.72-7.72 1.47 1.35L5.41 20z\"/>\n",
              "  </svg>\n",
              "      </button>\n",
              "      \n",
              "  <style>\n",
              "    .colab-df-container {\n",
              "      display:flex;\n",
              "      flex-wrap:wrap;\n",
              "      gap: 12px;\n",
              "    }\n",
              "\n",
              "    .colab-df-convert {\n",
              "      background-color: #E8F0FE;\n",
              "      border: none;\n",
              "      border-radius: 50%;\n",
              "      cursor: pointer;\n",
              "      display: none;\n",
              "      fill: #1967D2;\n",
              "      height: 32px;\n",
              "      padding: 0 0 0 0;\n",
              "      width: 32px;\n",
              "    }\n",
              "\n",
              "    .colab-df-convert:hover {\n",
              "      background-color: #E2EBFA;\n",
              "      box-shadow: 0px 1px 2px rgba(60, 64, 67, 0.3), 0px 1px 3px 1px rgba(60, 64, 67, 0.15);\n",
              "      fill: #174EA6;\n",
              "    }\n",
              "\n",
              "    [theme=dark] .colab-df-convert {\n",
              "      background-color: #3B4455;\n",
              "      fill: #D2E3FC;\n",
              "    }\n",
              "\n",
              "    [theme=dark] .colab-df-convert:hover {\n",
              "      background-color: #434B5C;\n",
              "      box-shadow: 0px 1px 3px 1px rgba(0, 0, 0, 0.15);\n",
              "      filter: drop-shadow(0px 1px 2px rgba(0, 0, 0, 0.3));\n",
              "      fill: #FFFFFF;\n",
              "    }\n",
              "  </style>\n",
              "\n",
              "      <script>\n",
              "        const buttonEl =\n",
              "          document.querySelector('#df-2b1eb773-8bcd-4915-b157-3740b09b03e7 button.colab-df-convert');\n",
              "        buttonEl.style.display =\n",
              "          google.colab.kernel.accessAllowed ? 'block' : 'none';\n",
              "\n",
              "        async function convertToInteractive(key) {\n",
              "          const element = document.querySelector('#df-2b1eb773-8bcd-4915-b157-3740b09b03e7');\n",
              "          const dataTable =\n",
              "            await google.colab.kernel.invokeFunction('convertToInteractive',\n",
              "                                                     [key], {});\n",
              "          if (!dataTable) return;\n",
              "\n",
              "          const docLinkHtml = 'Like what you see? Visit the ' +\n",
              "            '<a target=\"_blank\" href=https://colab.research.google.com/notebooks/data_table.ipynb>data table notebook</a>'\n",
              "            + ' to learn more about interactive tables.';\n",
              "          element.innerHTML = '';\n",
              "          dataTable['output_type'] = 'display_data';\n",
              "          await google.colab.output.renderOutput(dataTable, element);\n",
              "          const docLink = document.createElement('div');\n",
              "          docLink.innerHTML = docLinkHtml;\n",
              "          element.appendChild(docLink);\n",
              "        }\n",
              "      </script>\n",
              "    </div>\n",
              "  </div>\n",
              "  "
            ]
          },
          "metadata": {},
          "execution_count": 5
        }
      ],
      "source": [
        "db1 = pd.read_json(\"Sarcasm_Headlines_Dataset.json\", lines=True)\n",
        "db2 = pd.read_json(\"Sarcasm_Headlines_Dataset_v2.json\", lines=True)\n",
        "final_db =  pd.concat([db1, db2])\n",
        "final_db.head()"
      ]
    },
    {
      "cell_type": "markdown",
      "metadata": {
        "id": "NNrK2UCuf_9e"
      },
      "source": [
        "## *dataset cleaning*"
      ]
    },
    {
      "cell_type": "code",
      "execution_count": 6,
      "metadata": {
        "id": "K_9_uWicf_9e"
      },
      "outputs": [],
      "source": [
        "def data_clean(input):\n",
        "    input = input.lower()\n",
        "    \n",
        "    a = re.compile('http[s]?://(?:[a-zA-Z]|[0-9]|[$-_@.&+]|[!*\\(\\),]|(?:%[0-9a-fA-F][0-9a-fA-F]))+')\n",
        "    input = a.sub('', input)\n",
        "    input = \" \".join(filter(lambda x:x[0]!='@', input.split()))\n",
        "    emoticon = re.compile(\"[\"\n",
        "                           u\"\\U0001F600-\\U0001FFFF\"  \n",
        "                           u\"\\U0001F300-\\U0001F5FF\"  \n",
        "                           u\"\\U0001F680-\\U0001F6FF\"  \n",
        "                           u\"\\U0001F1E0-\\U0001F1FF\" \n",
        "                           u\"\\U00002702-\\U000027B0\"\n",
        "                           u\"\\U000024C2-\\U0001F251\"\n",
        "                           \"]+\", flags=re.UNICODE)\n",
        "    \n",
        "    input = emoticon.sub(r'', input)\n",
        "    input = input.lower()\n",
        "    input = re.sub(r\"i'm\", \"i am\", input)\n",
        "    input = re.sub(r\"he's\", \"he is\", input)\n",
        "    input = re.sub(r\"she's\", \"she is\", input)\n",
        "    input = re.sub(r\"that's\", \"that is\", input)        \n",
        "    input = re.sub(r\"what's\", \"what is\", input)\n",
        "    input = re.sub(r\"where's\", \"where is\", input) \n",
        "    input = re.sub(r\"\\'ll\", \" will\", input)  \n",
        "    input = re.sub(r\"\\'ve\", \" have\", input)  \n",
        "    input = re.sub(r\"\\'re\", \" are\", input)\n",
        "    input = re.sub(r\"\\'d\", \" would\", input)\n",
        "    input = re.sub(r\"\\'ve\", \" have\", input)\n",
        "    input = re.sub(r\"won't\", \"will not\", input)\n",
        "    input = re.sub(r\"don't\", \"do not\", input)\n",
        "    input = re.sub(r\"did't\", \"did not\", input)\n",
        "    input = re.sub(r\"can't\", \"can not\", input)\n",
        "    input = re.sub(r\"it's\", \"it is\", input)\n",
        "    input = re.sub(r\"couldn't\", \"could not\", input)\n",
        "    input = re.sub(r\"have't\", \"have not\", input)\n",
        "    input = re.sub(r\"[,.\\\"\\'!@#$%^&*(){}?/;`~:<>+=-]\", \"\", input)\n",
        "    return input"
      ]
    },
    {
      "cell_type": "code",
      "execution_count": 10,
      "metadata": {
        "colab": {
          "base_uri": "https://localhost:8080/"
        },
        "id": "F0PcOxUtf_9f",
        "outputId": "482c8e14-5763-45a5-9434-a865e318bf31"
      },
      "outputs": [
        {
          "output_type": "stream",
          "name": "stderr",
          "text": [
            "[nltk_data] Downloading package punkt to /root/nltk_data...\n",
            "[nltk_data]   Package punkt is already up-to-date!\n",
            "[nltk_data] Downloading package stopwords to /root/nltk_data...\n",
            "[nltk_data]   Package stopwords is already up-to-date!\n"
          ]
        },
        {
          "output_type": "execute_result",
          "data": {
            "text/plain": [
              "[['former',\n",
              "  'versace',\n",
              "  'store',\n",
              "  'clerk',\n",
              "  'sues',\n",
              "  'secret',\n",
              "  'black',\n",
              "  'code',\n",
              "  'minority',\n",
              "  'shoppers'],\n",
              " ['roseanne',\n",
              "  'revival',\n",
              "  'catches',\n",
              "  'thorny',\n",
              "  'political',\n",
              "  'mood',\n",
              "  'better',\n",
              "  'worse'],\n",
              " ['mom',\n",
              "  'starting',\n",
              "  'fear',\n",
              "  'sons',\n",
              "  'web',\n",
              "  'series',\n",
              "  'closest',\n",
              "  'thing',\n",
              "  'grandchild'],\n",
              " ['boehner',\n",
              "  'wants',\n",
              "  'wife',\n",
              "  'listen',\n",
              "  'come',\n",
              "  'alternative',\n",
              "  'debtreduction',\n",
              "  'ideas'],\n",
              " ['jk', 'rowling', 'wishes', 'snape', 'happy', 'birthday', 'magical', 'way'],\n",
              " ['advancing', 'worlds', 'women'],\n",
              " ['fascinating', 'case', 'eating', 'labgrown', 'meat'],\n",
              " ['ceo', 'send', 'kids', 'school', 'work', 'company'],\n",
              " ['top', 'snake', 'handler', 'leaves', 'sinking', 'huckabee', 'campaign'],\n",
              " ['fridays', 'morning', 'email', 'inside', 'trumps', 'presser', 'ages']]"
            ]
          },
          "metadata": {},
          "execution_count": 10
        }
      ],
      "source": [
        "import string\n",
        "import nltk\n",
        "nltk.download('punkt')\n",
        "nltk.download('stopwords')\n",
        "\n",
        "from nltk.tokenize import word_tokenize\n",
        "from nltk.corpus import stopwords\n",
        "\n",
        "def tokenize_text(df):\n",
        "    news_stmt = list()\n",
        "    stmt = df[\"headline\"].values.tolist()\n",
        "\n",
        "    for st in stmt:\n",
        "        st = data_clean(st)\n",
        "        \n",
        "        b = word_tokenize(st)\n",
        "       \n",
        "        c = str.maketrans('', '', string.punctuation)\n",
        "        splited = [w.translate(c) for w in b]\n",
        "        \n",
        "        characters = [w for w in splited if w.isalpha()]\n",
        "        sw = set(stopwords.words(\"english\"))\n",
        "        \n",
        "        characters = [w for w in characters if not w in sw]\n",
        "        news_stmt.append(characters)\n",
        "    return news_stmt\n",
        "\n",
        "news_stmt = tokenize_text(final_db)\n",
        "news_stmt[0:10]"
      ]
    },
    {
      "cell_type": "markdown",
      "metadata": {
        "id": "y1xRc3Qef_9g"
      },
      "source": [
        "## *Visualize the most occuring words*"
      ]
    },
    {
      "cell_type": "markdown",
      "metadata": {
        "id": "9FTJ4Nwzf_9g"
      },
      "source": [
        "from collections import Counter\n",
        "from wordcloud import WordCloud, ImageColorGenerator\n",
        "pos_data = final_db.loc[final_db['is_sarcastic'] == 1]\n",
        "pos_head_lines = tokenize_text(pos_data)\n",
        "pos_lines = [j for sub in pos_head_lines for j in sub] \n",
        "word_could_dict=Counter(pos_lines)\n",
        "\n",
        "wordcloud = WordCloud(width = 1000, height = 500).generate_from_frequencies(word_could_dict)\n",
        "plt.figure(figsize=(15,8))\n",
        "plt.imshow(wordcloud)\n",
        "plt.axis(\"off\")"
      ]
    },
    {
      "cell_type": "markdown",
      "metadata": {
        "id": "zlHKwKwGf_9h"
      },
      "source": [
        "## *Train-test split*"
      ]
    },
    {
      "cell_type": "code",
      "execution_count": 26,
      "metadata": {
        "colab": {
          "base_uri": "https://localhost:8080/"
        },
        "id": "Fe043rhaf_9h",
        "outputId": "794e9f37-07db-40bc-9d9b-d52b5da77035"
      },
      "outputs": [
        {
          "output_type": "stream",
          "name": "stdout",
          "text": [
            "the one and only tokens are -  28657\n",
            "size of vocabulary - 28658\n"
          ]
        }
      ],
      "source": [
        "splt_val = 0.2\n",
        "maximum_len = 20\n",
        "\n",
        "\n",
        "object_tokens = Tokenizer()\n",
        "object_tokens.fit_on_texts(news_stmt)\n",
        "seqn = object_tokens.texts_to_sequences(news_stmt)\n",
        "\n",
        "idx_of_words = object_tokens.word_index\n",
        "print(\"the one and only tokens are - \",len(idx_of_words))\n",
        "size_vocablry = len(object_tokens.word_index) + 1\n",
        "print('size of vocabulary -', size_vocablry)\n",
        "\n",
        "padding_of_stmt = pad_sequences(seqn, maxlen=maximum_len, padding='post')\n",
        "emotion =  final_db['is_sarcastic'].values\n",
        "\n",
        "indexes = np.arange(padding_of_stmt.shape[0])\n",
        "np.random.shuffle(indexes)\n",
        "padding_of_stmt = padding_of_stmt[indexes]\n",
        "emotion = emotion[indexes]\n",
        "\n",
        "val_sampl_numb = int(splt_val * padding_of_stmt.shape[0])\n",
        "\n",
        "x_train_padding = padding_of_stmt[:-val_sampl_numb]\n",
        "y_train = emotion[:-val_sampl_numb]\n",
        "x_test_padding = padding_of_stmt[-val_sampl_numb:]\n",
        "y_test = emotion[-val_sampl_numb:]"
      ]
    },
    {
      "cell_type": "code",
      "execution_count": 27,
      "metadata": {
        "colab": {
          "base_uri": "https://localhost:8080/"
        },
        "id": "olp-MGpef_9i",
        "outputId": "dd3b17c7-1630-4fcf-c109-e37074722aa1"
      },
      "outputs": [
        {
          "output_type": "stream",
          "name": "stdout",
          "text": [
            " x_train_padding_shape: (44263, 20)\n",
            " y_train_shape: (44263,)\n",
            " x_test_padding_shape: (11065, 20)\n",
            " y_test_shape: (11065,)\n"
          ]
        }
      ],
      "source": [
        "print(' x_train_padding_shape:', x_train_padding.shape)\n",
        "print(' y_train_shape:', y_train.shape)\n",
        "\n",
        "print(' x_test_padding_shape:', x_test_padding.shape)\n",
        "print(' y_test_shape:', y_test.shape)"
      ]
    },
    {
      "cell_type": "markdown",
      "metadata": {
        "id": "_bJJ0-lWf_9i"
      },
      "source": [
        "## *GloVe model Loading *"
      ]
    },
    {
      "cell_type": "code",
      "execution_count": 28,
      "metadata": {
        "colab": {
          "base_uri": "https://localhost:8080/"
        },
        "id": "D15OrTJ7f_9i",
        "outputId": "82e3c07b-9bcd-4303-b43a-c543cb8b589a"
      },
      "outputs": [
        {
          "output_type": "stream",
          "name": "stdout",
          "text": [
            "Found 19635 word vectors.\n"
          ]
        }
      ],
      "source": [
        "indx_of_emb = {}\n",
        "dimension_of_emb = 100\n",
        "f = open(\"glove.twitter.27B.100d.txt\",\"r\")\n",
        "for st in f:\n",
        "    values = st.split()\n",
        "    w = values[0]\n",
        "    coefficients = np.asarray(values[1:], dtype='float32')\n",
        "    indx_of_emb[w] = coefficients\n",
        "f.close()\n",
        "\n",
        "print('Found %s word vectors.' % len(indx_of_emb))"
      ]
    },
    {
      "cell_type": "markdown",
      "metadata": {
        "id": "_tuyh44of_9j"
      },
      "source": [
        "## *now, lets construct the embedding layer*"
      ]
    },
    {
      "cell_type": "code",
      "execution_count": 29,
      "metadata": {
        "colab": {
          "base_uri": "https://localhost:8080/"
        },
        "id": "gDgWibe_f_9j",
        "outputId": "d83a0a26-8803-4921-e067-123496431e77"
      },
      "outputs": [
        {
          "output_type": "stream",
          "name": "stdout",
          "text": [
            "6587\n"
          ]
        }
      ],
      "source": [
        "matrx_of_emb = np.zeros((len(idx_of_words) + 1, dimension_of_emb))\n",
        "c = 0\n",
        "for w, i in idx_of_words.items():\n",
        "    vect_of_emb = indx_of_emb.get(w)\n",
        "    if vect_of_emb is not None:\n",
        "        c+=1\n",
        "        matrx_of_emb[i] = vect_of_emb\n",
        "print(c)"
      ]
    },
    {
      "cell_type": "code",
      "execution_count": 30,
      "metadata": {
        "id": "cP0OPGZsf_9j"
      },
      "outputs": [],
      "source": [
        "layer_of_emb = Embedding(len(idx_of_words) + 1,\n",
        "                            dimension_of_emb,\n",
        "                            weights=[matrx_of_emb],\n",
        "                            input_length=maximum_len,\n",
        "                            trainable=False)"
      ]
    },
    {
      "cell_type": "markdown",
      "metadata": {
        "id": "0pzO1fcBf_9k"
      },
      "source": [
        "## *RNN model building*"
      ]
    },
    {
      "cell_type": "code",
      "execution_count": 31,
      "metadata": {
        "colab": {
          "base_uri": "https://localhost:8080/"
        },
        "id": "Sm4DHuLjf_9k",
        "outputId": "79db7bf2-8c41-4530-e640-2a4a1df07050"
      },
      "outputs": [
        {
          "output_type": "stream",
          "name": "stdout",
          "text": [
            "Summary of the built model...\n",
            "Model: \"sequential_1\"\n",
            "_________________________________________________________________\n",
            " Layer (type)                Output Shape              Param #   \n",
            "=================================================================\n",
            " embedding_1 (Embedding)     (None, 20, 100)           2865800   \n",
            "                                                                 \n",
            " lstm_1 (LSTM)               (None, 128)               117248    \n",
            "                                                                 \n",
            " dense_1 (Dense)             (None, 1)                 129       \n",
            "                                                                 \n",
            "=================================================================\n",
            "Total params: 2,983,177\n",
            "Trainable params: 117,377\n",
            "Non-trainable params: 2,865,800\n",
            "_________________________________________________________________\n",
            "None\n"
          ]
        }
      ],
      "source": [
        "model = Sequential()\n",
        "model.add(layer_of_emb)\n",
        "model.add(LSTM(128, dropout=0.2, recurrent_dropout=0.25))\n",
        "model.add(Dense(1, activation='sigmoid'))\n",
        "\n",
        "model.compile(loss='binary_crossentropy', optimizer='adam', metrics=['acc'])\n",
        "\n",
        "print('Summary of the built model...')\n",
        "print(model.summary())"
      ]
    },
    {
      "cell_type": "markdown",
      "metadata": {
        "id": "yqt6qLfWf_9k"
      },
      "source": [
        "## *Training*"
      ]
    },
    {
      "cell_type": "code",
      "execution_count": 32,
      "metadata": {
        "colab": {
          "base_uri": "https://localhost:8080/"
        },
        "id": "ZyJl3as8f_9l",
        "outputId": "6c05afb5-75dc-48e6-8d14-3f07e112c1c5"
      },
      "outputs": [
        {
          "output_type": "stream",
          "name": "stdout",
          "text": [
            "Epoch 1/35\n",
            "1384/1384 - 78s - loss: 0.5565 - acc: 0.7118 - val_loss: 0.4946 - val_acc: 0.7561 - 78s/epoch - 56ms/step\n",
            "Epoch 2/35\n",
            "1384/1384 - 77s - loss: 0.4870 - acc: 0.7595 - val_loss: 0.4578 - val_acc: 0.7826 - 77s/epoch - 56ms/step\n",
            "Epoch 3/35\n",
            "1384/1384 - 73s - loss: 0.4480 - acc: 0.7843 - val_loss: 0.4391 - val_acc: 0.7878 - 73s/epoch - 53ms/step\n",
            "Epoch 4/35\n",
            "1384/1384 - 75s - loss: 0.4115 - acc: 0.8056 - val_loss: 0.4064 - val_acc: 0.8083 - 75s/epoch - 54ms/step\n",
            "Epoch 5/35\n",
            "1384/1384 - 74s - loss: 0.3868 - acc: 0.8224 - val_loss: 0.3808 - val_acc: 0.8236 - 74s/epoch - 53ms/step\n",
            "Epoch 6/35\n",
            "1384/1384 - 76s - loss: 0.3625 - acc: 0.8355 - val_loss: 0.3774 - val_acc: 0.8262 - 76s/epoch - 55ms/step\n",
            "Epoch 7/35\n",
            "1384/1384 - 74s - loss: 0.3396 - acc: 0.8453 - val_loss: 0.3480 - val_acc: 0.8470 - 74s/epoch - 54ms/step\n",
            "Epoch 8/35\n",
            "1384/1384 - 75s - loss: 0.3158 - acc: 0.8603 - val_loss: 0.3411 - val_acc: 0.8498 - 75s/epoch - 54ms/step\n",
            "Epoch 9/35\n",
            "1384/1384 - 75s - loss: 0.2998 - acc: 0.8666 - val_loss: 0.3347 - val_acc: 0.8536 - 75s/epoch - 54ms/step\n",
            "Epoch 10/35\n",
            "1384/1384 - 73s - loss: 0.2815 - acc: 0.8777 - val_loss: 0.3044 - val_acc: 0.8673 - 73s/epoch - 53ms/step\n",
            "Epoch 11/35\n",
            "1384/1384 - 73s - loss: 0.2672 - acc: 0.8847 - val_loss: 0.3033 - val_acc: 0.8700 - 73s/epoch - 52ms/step\n",
            "Epoch 12/35\n",
            "1384/1384 - 73s - loss: 0.2544 - acc: 0.8887 - val_loss: 0.3154 - val_acc: 0.8708 - 73s/epoch - 53ms/step\n",
            "Epoch 13/35\n",
            "1384/1384 - 74s - loss: 0.2385 - acc: 0.8982 - val_loss: 0.2841 - val_acc: 0.8844 - 74s/epoch - 53ms/step\n",
            "Epoch 14/35\n",
            "1384/1384 - 70s - loss: 0.2301 - acc: 0.9014 - val_loss: 0.2869 - val_acc: 0.8851 - 70s/epoch - 51ms/step\n",
            "Epoch 15/35\n",
            "1384/1384 - 70s - loss: 0.2205 - acc: 0.9070 - val_loss: 0.3030 - val_acc: 0.8868 - 70s/epoch - 51ms/step\n",
            "Epoch 16/35\n",
            "1384/1384 - 70s - loss: 0.2123 - acc: 0.9109 - val_loss: 0.2768 - val_acc: 0.8958 - 70s/epoch - 50ms/step\n",
            "Epoch 17/35\n",
            "1384/1384 - 72s - loss: 0.2033 - acc: 0.9146 - val_loss: 0.2509 - val_acc: 0.9030 - 72s/epoch - 52ms/step\n",
            "Epoch 18/35\n",
            "1384/1384 - 72s - loss: 0.1997 - acc: 0.9177 - val_loss: 0.2586 - val_acc: 0.9069 - 72s/epoch - 52ms/step\n",
            "Epoch 19/35\n",
            "1384/1384 - 70s - loss: 0.1925 - acc: 0.9187 - val_loss: 0.2598 - val_acc: 0.9089 - 70s/epoch - 51ms/step\n",
            "Epoch 20/35\n",
            "1384/1384 - 72s - loss: 0.1883 - acc: 0.9210 - val_loss: 0.2451 - val_acc: 0.9093 - 72s/epoch - 52ms/step\n",
            "Epoch 21/35\n",
            "1384/1384 - 71s - loss: 0.1775 - acc: 0.9265 - val_loss: 0.2479 - val_acc: 0.9115 - 71s/epoch - 51ms/step\n",
            "Epoch 22/35\n",
            "1384/1384 - 70s - loss: 0.1734 - acc: 0.9279 - val_loss: 0.2517 - val_acc: 0.9121 - 70s/epoch - 51ms/step\n",
            "Epoch 23/35\n",
            "1384/1384 - 70s - loss: 0.1686 - acc: 0.9314 - val_loss: 0.2331 - val_acc: 0.9225 - 70s/epoch - 51ms/step\n",
            "Epoch 24/35\n",
            "1384/1384 - 72s - loss: 0.1675 - acc: 0.9317 - val_loss: 0.2264 - val_acc: 0.9225 - 72s/epoch - 52ms/step\n",
            "Epoch 25/35\n",
            "1384/1384 - 70s - loss: 0.1598 - acc: 0.9350 - val_loss: 0.2259 - val_acc: 0.9208 - 70s/epoch - 51ms/step\n",
            "Epoch 26/35\n",
            "1384/1384 - 71s - loss: 0.1564 - acc: 0.9353 - val_loss: 0.2266 - val_acc: 0.9256 - 71s/epoch - 51ms/step\n",
            "Epoch 27/35\n",
            "1384/1384 - 71s - loss: 0.1545 - acc: 0.9367 - val_loss: 0.2204 - val_acc: 0.9271 - 71s/epoch - 51ms/step\n",
            "Epoch 28/35\n",
            "1384/1384 - 72s - loss: 0.1545 - acc: 0.9381 - val_loss: 0.2186 - val_acc: 0.9258 - 72s/epoch - 52ms/step\n",
            "Epoch 29/35\n",
            "1384/1384 - 73s - loss: 0.1486 - acc: 0.9388 - val_loss: 0.2219 - val_acc: 0.9295 - 73s/epoch - 52ms/step\n",
            "Epoch 30/35\n",
            "1384/1384 - 72s - loss: 0.1457 - acc: 0.9408 - val_loss: 0.2191 - val_acc: 0.9309 - 72s/epoch - 52ms/step\n",
            "Epoch 31/35\n",
            "1384/1384 - 72s - loss: 0.1438 - acc: 0.9402 - val_loss: 0.2342 - val_acc: 0.9250 - 72s/epoch - 52ms/step\n",
            "Epoch 32/35\n",
            "1384/1384 - 73s - loss: 0.1412 - acc: 0.9439 - val_loss: 0.2163 - val_acc: 0.9307 - 73s/epoch - 53ms/step\n",
            "Epoch 33/35\n",
            "1384/1384 - 72s - loss: 0.1375 - acc: 0.9438 - val_loss: 0.2091 - val_acc: 0.9347 - 72s/epoch - 52ms/step\n",
            "Epoch 34/35\n",
            "1384/1384 - 71s - loss: 0.1369 - acc: 0.9444 - val_loss: 0.2183 - val_acc: 0.9355 - 71s/epoch - 52ms/step\n",
            "Epoch 35/35\n",
            "1384/1384 - 72s - loss: 0.1363 - acc: 0.9450 - val_loss: 0.2255 - val_acc: 0.9322 - 72s/epoch - 52ms/step\n"
          ]
        }
      ],
      "source": [
        "history = model.fit(x_train_padding, y_train, batch_size=32, epochs=35, validation_data=(x_test_padding, y_test), verbose=2)"
      ]
    },
    {
      "cell_type": "markdown",
      "metadata": {
        "id": "VWgjci3uf_9l"
      },
      "source": [
        "## *plotting results*"
      ]
    },
    {
      "cell_type": "code",
      "execution_count": 33,
      "metadata": {
        "colab": {
          "base_uri": "https://localhost:8080/",
          "height": 545
        },
        "id": "ury5vnXzf_9l",
        "outputId": "8b935715-35c9-40ab-d9ff-79ddda9974c8"
      },
      "outputs": [
        {
          "output_type": "display_data",
          "data": {
            "text/plain": [
              "<Figure size 432x288 with 1 Axes>"
            ],
            "image/png": "[encoded data removed]"
          },
          "metadata": {
            "needs_background": "light"
          }
        },
        {
          "output_type": "display_data",
          "data": {
            "text/plain": [
              "<Figure size 432x288 with 1 Axes>"
            ],
            "image/png": "[encoded data removed]"
          },
          "metadata": {
            "needs_background": "light"
          }
        }
      ],
      "source": [
        "acc = history.history['acc']\n",
        "val_acc = history.history['val_acc']\n",
        "loss = history.history['loss']\n",
        "val_loss = history.history['val_loss']\n",
        "\n",
        "epochs = range(1, len(acc)+1)\n",
        "\n",
        "plt.plot(epochs, acc, 'g', label='acuracy of training')\n",
        "plt.plot(epochs, val_acc, 'r', label='accuracy of validation')\n",
        "plt.title('accuracy of Training and validation')\n",
        "plt.legend()\n",
        "\n",
        "plt.figure()\n",
        "\n",
        "plt.plot(epochs, loss, 'g', label='loss of training')\n",
        "plt.plot(epochs, val_loss, 'r', label='loss of val')\n",
        "plt.title('loss of Training and validation ')\n",
        "plt.legend()\n",
        "\n",
        "plt.show()"
      ]
    },
    {
      "cell_type": "markdown",
      "metadata": {
        "id": "sRkzN7h7f_9l"
      },
      "source": [
        "<hr>\n",
        "<h2><i>checking if it can predict sarcasm in sentence?</i></h2>"
      ]
    },
    {
      "cell_type": "code",
      "execution_count": 34,
      "metadata": {
        "id": "xJLoA6NYf_9m"
      },
      "outputs": [],
      "source": [
        "def detect_sarcasm(s,model):\n",
        "    final_x = pd.DataFrame({\"headline\":[s]})\n",
        "    lines_for_testing = tokenize_text(final_x)\n",
        "    seq_test = object_tokens.texts_to_sequences(lines_for_testing)\n",
        "    padding_test_rev = pad_sequences(seq_test, maxlen=maximum_len, padding='post')\n",
        "    pred = model.predict(padding_test_rev)\n",
        "    pred*=100\n",
        "    if pred[0][0]>=50: return \"It's a sarcasm!\" \n",
        "    else: return \"It's not a sarcasm.\""
      ]
    },
    {
      "cell_type": "markdown",
      "metadata": {
        "id": "S1Iz1SOwf_9m"
      },
      "source": [
        "### *right prediction*"
      ]
    },
    {
      "cell_type": "code",
      "execution_count": 35,
      "metadata": {
        "colab": {
          "base_uri": "https://localhost:8080/",
          "height": 53
        },
        "id": "Oowp--E-f_9m",
        "outputId": "53114053-9505-405b-c123-2f7ac6668fc6"
      },
      "outputs": [
        {
          "output_type": "stream",
          "name": "stdout",
          "text": [
            "1/1 [==============================] - 1s 535ms/step\n"
          ]
        },
        {
          "output_type": "execute_result",
          "data": {
            "text/plain": [
              "\"It's a sarcasm!\""
            ],
            "application/vnd.google.colaboratory.intrinsic+json": {
              "type": "string"
            }
          },
          "metadata": {},
          "execution_count": 35
        }
      ],
      "source": [
        "detect_sarcasm(\"I was depressed. He asked me to be happy. I am not depressed anymore.\",model)"
      ]
    },
    {
      "cell_type": "code",
      "execution_count": 36,
      "metadata": {
        "colab": {
          "base_uri": "https://localhost:8080/",
          "height": 53
        },
        "id": "_AILdNe8f_9m",
        "outputId": "35e545b1-564a-4e98-c218-cb7003716efb"
      },
      "outputs": [
        {
          "output_type": "stream",
          "name": "stdout",
          "text": [
            "1/1 [==============================] - 0s 38ms/step\n"
          ]
        },
        {
          "output_type": "execute_result",
          "data": {
            "text/plain": [
              "\"It's a sarcasm!\""
            ],
            "application/vnd.google.colaboratory.intrinsic+json": {
              "type": "string"
            }
          },
          "metadata": {},
          "execution_count": 36
        }
      ],
      "source": [
        "detect_sarcasm(\"You just broke my car window. Great job.\",model)"
      ]
    },
    {
      "cell_type": "code",
      "execution_count": 37,
      "metadata": {
        "colab": {
          "base_uri": "https://localhost:8080/",
          "height": 53
        },
        "id": "CIrgc1oWf_9n",
        "outputId": "b5885306-5e3a-4779-873c-c17662dbb8ce"
      },
      "outputs": [
        {
          "output_type": "stream",
          "name": "stdout",
          "text": [
            "1/1 [==============================] - 0s 28ms/step\n"
          ]
        },
        {
          "output_type": "execute_result",
          "data": {
            "text/plain": [
              "\"It's not a sarcasm.\""
            ],
            "application/vnd.google.colaboratory.intrinsic+json": {
              "type": "string"
            }
          },
          "metadata": {},
          "execution_count": 37
        }
      ],
      "source": [
        "detect_sarcasm(\"You just saved my dog's life. Thanks a million.\",model)"
      ]
    },
    {
      "cell_type": "code",
      "execution_count": 38,
      "metadata": {
        "colab": {
          "base_uri": "https://localhost:8080/",
          "height": 53
        },
        "id": "tKprVSy7f_9n",
        "outputId": "388b79ef-3191-40e0-d44d-4f621a9eb1a8"
      },
      "outputs": [
        {
          "output_type": "stream",
          "name": "stdout",
          "text": [
            "1/1 [==============================] - 0s 24ms/step\n"
          ]
        },
        {
          "output_type": "execute_result",
          "data": {
            "text/plain": [
              "\"It's not a sarcasm.\""
            ],
            "application/vnd.google.colaboratory.intrinsic+json": {
              "type": "string"
            }
          },
          "metadata": {},
          "execution_count": 38
        }
      ],
      "source": [
        "detect_sarcasm(\"I want a million dollars!\",model)"
      ]
    },
    {
      "cell_type": "code",
      "execution_count": 39,
      "metadata": {
        "colab": {
          "base_uri": "https://localhost:8080/",
          "height": 53
        },
        "id": "EowrmG2Of_9n",
        "outputId": "13e86e6b-4dec-4626-c596-6f93383e0f58"
      },
      "outputs": [
        {
          "output_type": "stream",
          "name": "stdout",
          "text": [
            "1/1 [==============================] - 0s 36ms/step\n"
          ]
        },
        {
          "output_type": "execute_result",
          "data": {
            "text/plain": [
              "\"It's a sarcasm!\""
            ],
            "application/vnd.google.colaboratory.intrinsic+json": {
              "type": "string"
            }
          },
          "metadata": {},
          "execution_count": 39
        }
      ],
      "source": [
        "detect_sarcasm(\"I just won a million dollars!\",model)"
      ]
    },
    {
      "cell_type": "markdown",
      "metadata": {
        "id": "IyClX2a2f_9n"
      },
      "source": [
        "### *wrong prediction*"
      ]
    },
    {
      "cell_type": "code",
      "execution_count": 41,
      "metadata": {
        "colab": {
          "base_uri": "https://localhost:8080/",
          "height": 53
        },
        "id": "Upv1wRJMf_9o",
        "outputId": "44fce2ab-8a3d-4d91-c37c-988dbbe41f21"
      },
      "outputs": [
        {
          "output_type": "stream",
          "name": "stdout",
          "text": [
            "1/1 [==============================] - 0s 99ms/step\n"
          ]
        },
        {
          "output_type": "execute_result",
          "data": {
            "text/plain": [
              "\"It's a sarcasm!\""
            ],
            "application/vnd.google.colaboratory.intrinsic+json": {
              "type": "string"
            }
          },
          "metadata": {},
          "execution_count": 41
        }
      ],
      "source": [
        "detect_sarcasm(\"His name is Bob. He is a nice person.\",model)"
      ]
    },
    {
      "cell_type": "code",
      "execution_count": 42,
      "metadata": {
        "colab": {
          "base_uri": "https://localhost:8080/",
          "height": 53
        },
        "id": "kgX47P7Tf_9o",
        "outputId": "6b2025ea-6025-431a-dfe3-13dc518315a7"
      },
      "outputs": [
        {
          "output_type": "stream",
          "name": "stdout",
          "text": [
            "1/1 [==============================] - 0s 25ms/step\n"
          ]
        },
        {
          "output_type": "execute_result",
          "data": {
            "text/plain": [
              "\"It's a sarcasm!\""
            ],
            "application/vnd.google.colaboratory.intrinsic+json": {
              "type": "string"
            }
          },
          "metadata": {},
          "execution_count": 42
        }
      ],
      "source": [
        "detect_sarcasm(\"Sarcasm is very easy to detect.\",model)"
      ]
    },
    {
      "cell_type": "code",
      "execution_count": 43,
      "metadata": {
        "id": "LjIuSHR5f_9o"
      },
      "outputs": [],
      "source": [
        "import pickle"
      ]
    },
    {
      "cell_type": "code",
      "execution_count": 44,
      "metadata": {
        "id": "xHe_fAbVf_9o"
      },
      "outputs": [],
      "source": [
        "pickle.dump(model, open(\"model.pkl\", \"wb\"))"
      ]
    },
    {
      "cell_type": "markdown",
      "source": [
        "saving the final model"
      ],
      "metadata": {
        "id": "b8EAzC_QwCyh"
      }
    },
    {
      "cell_type": "code",
      "execution_count": 45,
      "metadata": {
        "id": "eHZiuoRYf_9o"
      },
      "outputs": [],
      "source": [
        "from keras.models import load_model\n",
        "model.save('model.h5')\n",
        "model_final = load_model('model.h5')"
      ]
    },
    {
      "cell_type": "code",
      "execution_count": 46,
      "metadata": {
        "id": "0aD0AzMcf_9p"
      },
      "outputs": [],
      "source": [
        "def chatbot_response(msg):\n",
        "    ints = detect_sarcasm(msg,model_final)\n",
        "   \n",
        "    return ints"
      ]
    },
    {
      "cell_type": "code",
      "execution_count": 47,
      "metadata": {
        "id": "PnUqQ7Fbf_9p"
      },
      "outputs": [],
      "source": [
        "import tkinter\n",
        "from tkinter import *"
      ]
    },
    {
      "cell_type": "code",
      "execution_count": 48,
      "metadata": {
        "colab": {
          "base_uri": "https://localhost:8080/",
          "height": 356
        },
        "id": "OZGyLI2if_9p",
        "outputId": "c939f72e-3596-4847-b5d0-194c404e49de"
      },
      "outputs": [
        {
          "output_type": "error",
          "ename": "TclError",
          "evalue": "ignored",
          "traceback": [
            "\u001b[0;31m---------------------------------------------------------------------------\u001b[0m",
            "\u001b[0;31mTclError\u001b[0m                                  Traceback (most recent call last)",
            "\u001b[0;32m<ipython-input-48-cb31009dfc99>\u001b[0m in \u001b[0;36m<module>\u001b[0;34m\u001b[0m\n\u001b[1;32m     15\u001b[0m \u001b[0;34m\u001b[0m\u001b[0m\n\u001b[1;32m     16\u001b[0m \u001b[0;34m\u001b[0m\u001b[0m\n\u001b[0;32m---> 17\u001b[0;31m \u001b[0mbase\u001b[0m \u001b[0;34m=\u001b[0m \u001b[0mTk\u001b[0m\u001b[0;34m(\u001b[0m\u001b[0;34m)\u001b[0m\u001b[0;34m\u001b[0m\u001b[0;34m\u001b[0m\u001b[0m\n\u001b[0m\u001b[1;32m     18\u001b[0m \u001b[0mbase\u001b[0m\u001b[0;34m.\u001b[0m\u001b[0mtitle\u001b[0m\u001b[0;34m(\u001b[0m\u001b[0;34m\"Sarcasm Detection\"\u001b[0m\u001b[0;34m)\u001b[0m\u001b[0;34m\u001b[0m\u001b[0;34m\u001b[0m\u001b[0m\n\u001b[1;32m     19\u001b[0m \u001b[0mbase\u001b[0m\u001b[0;34m.\u001b[0m\u001b[0mgeometry\u001b[0m\u001b[0;34m(\u001b[0m\u001b[0;34m\"400x500\"\u001b[0m\u001b[0;34m)\u001b[0m\u001b[0;34m\u001b[0m\u001b[0;34m\u001b[0m\u001b[0m\n",
            "\u001b[0;32m/usr/lib/python3.7/tkinter/__init__.py\u001b[0m in \u001b[0;36m__init__\u001b[0;34m(self, screenName, baseName, className, useTk, sync, use)\u001b[0m\n\u001b[1;32m   2021\u001b[0m                 \u001b[0mbaseName\u001b[0m \u001b[0;34m=\u001b[0m \u001b[0mbaseName\u001b[0m \u001b[0;34m+\u001b[0m \u001b[0mext\u001b[0m\u001b[0;34m\u001b[0m\u001b[0;34m\u001b[0m\u001b[0m\n\u001b[1;32m   2022\u001b[0m         \u001b[0minteractive\u001b[0m \u001b[0;34m=\u001b[0m \u001b[0;36m0\u001b[0m\u001b[0;34m\u001b[0m\u001b[0;34m\u001b[0m\u001b[0m\n\u001b[0;32m-> 2023\u001b[0;31m         \u001b[0mself\u001b[0m\u001b[0;34m.\u001b[0m\u001b[0mtk\u001b[0m \u001b[0;34m=\u001b[0m \u001b[0m_tkinter\u001b[0m\u001b[0;34m.\u001b[0m\u001b[0mcreate\u001b[0m\u001b[0;34m(\u001b[0m\u001b[0mscreenName\u001b[0m\u001b[0;34m,\u001b[0m \u001b[0mbaseName\u001b[0m\u001b[0;34m,\u001b[0m \u001b[0mclassName\u001b[0m\u001b[0;34m,\u001b[0m \u001b[0minteractive\u001b[0m\u001b[0;34m,\u001b[0m \u001b[0mwantobjects\u001b[0m\u001b[0;34m,\u001b[0m \u001b[0museTk\u001b[0m\u001b[0;34m,\u001b[0m \u001b[0msync\u001b[0m\u001b[0;34m,\u001b[0m \u001b[0muse\u001b[0m\u001b[0;34m)\u001b[0m\u001b[0;34m\u001b[0m\u001b[0;34m\u001b[0m\u001b[0m\n\u001b[0m\u001b[1;32m   2024\u001b[0m         \u001b[0;32mif\u001b[0m \u001b[0museTk\u001b[0m\u001b[0;34m:\u001b[0m\u001b[0;34m\u001b[0m\u001b[0;34m\u001b[0m\u001b[0m\n\u001b[1;32m   2025\u001b[0m             \u001b[0mself\u001b[0m\u001b[0;34m.\u001b[0m\u001b[0m_loadtk\u001b[0m\u001b[0;34m(\u001b[0m\u001b[0;34m)\u001b[0m\u001b[0;34m\u001b[0m\u001b[0;34m\u001b[0m\u001b[0m\n",
            "\u001b[0;31mTclError\u001b[0m: no display name and no $DISPLAY environment variable"
          ]
        }
      ],
      "source": [
        "def send():\n",
        "    message = EntryBox.get(\"1.0\", \"end-1c\").strip()\n",
        "    EntryBox.delete(\"0.0\", END)\n",
        "    \n",
        "    if message != '':\n",
        "        ChatLog.config(state=NORMAL)\n",
        "        ChatLog.insert(END, \"Statement: \" + message + '\\n\\n')\n",
        "        ChatLog.config(foreground=\"#442265\", font=(\"Verdana\", 12 ))\n",
        "        \n",
        "        res = chatbot_response(message)\n",
        "        ChatLog.insert(END, \"Prediction: \" + res + '\\n\\n')\n",
        "        \n",
        "        ChatLog.config(state=DISABLED)\n",
        "        ChatLog.yview(END)\n",
        "\n",
        "        \n",
        "base = Tk()\n",
        "base.title(\"Sarcasm Detection\")\n",
        "base.geometry(\"400x500\")\n",
        "base.resizable(width=FALSE, height=FALSE)\n",
        "\n",
        "#Create Chat window\n",
        "ChatLog = Text(base, bd=0, bg=\"white\", height=\"8\", width=\"50\", font=\"Arial\",)\n",
        "\n",
        "ChatLog.config(state=DISABLED)\n",
        "\n",
        "#Bind scrollbar to Chat window\n",
        "scrollbar = Scrollbar(base, command=ChatLog.yview, cursor=\"heart\")\n",
        "ChatLog['yscrollcommand'] = scrollbar.set\n",
        "\n",
        "#Create Button to send message\n",
        "SendButton = Button(base, font=(\"Verdana\",12,'bold'), text=\"Send\", width=\"12\", height=5,\n",
        "                    bd=0, bg=\"#32de97\", activebackground=\"#3c9d9b\",fg='#ffffff',\n",
        "                    command= send )\n",
        "#Create the box to enter message\n",
        "EntryBox = Text(base, bd=0, bg=\"white\",width=\"29\", height=\"5\", font=\"Arial\")\n",
        "\n",
        "scrollbar.place(x=376,y=6, height=386)\n",
        "ChatLog.place(x=6,y=6, height=386, width=370)\n",
        "EntryBox.place(x=128, y=401, height=90, width=265)\n",
        "SendButton.place(x=6, y=401, height=90)\n",
        "\n",
        "base.mainloop()\n"
      ]
    },
    {
      "cell_type": "code",
      "execution_count": null,
      "metadata": {
        "id": "QbQkdGg1f_9p"
      },
      "outputs": [],
      "source": []
    }
  ],
  "metadata": {
    "kernelspec": {
      "display_name": "Python 3 (ipykernel)",
      "language": "python",
      "name": "python3"
    },
    "language_info": {
      "codemirror_mode": {
        "name": "ipython",
        "version": 3
      },
      "file_extension": ".py",
      "mimetype": "text/x-python",
      "name": "python",
      "nbconvert_exporter": "python",
      "pygments_lexer": "ipython3",
      "version": "3.9.12"
    },
    "colab": {
      "provenance": []
    }
  },
  "nbformat": 4,
  "nbformat_minor": 0
}